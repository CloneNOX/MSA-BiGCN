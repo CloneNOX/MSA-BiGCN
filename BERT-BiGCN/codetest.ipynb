{
 "cells": [
  {
   "cell_type": "code",
   "execution_count": 1,
   "metadata": {},
   "outputs": [],
   "source": [
    "import torch\n",
    "from torch_geometric.data import Data\n",
    "from torch.utils.data import Dataset\n",
    "import json\n",
    "from gensim.models.keyedvectors import KeyedVectors\n",
    "from torch import nn\n",
    "import numpy as np"
   ]
  },
  {
   "cell_type": "code",
   "execution_count": 2,
   "metadata": {},
   "outputs": [],
   "source": [
    "from data import *\n",
    "dataset = semEval2017Dataset(\n",
    "    dataPath='../dataset/semevalRemake/', \n",
    "    type='train'\n",
    ")\n",
    "glove25d = KeyedVectors.load_word2vec_format(\n",
    "    '../dataset/glove/glove.twitter.27B.25d.gensim.txt',\n",
    "    binary=False\n",
    ")"
   ]
  },
  {
   "cell_type": "code",
   "execution_count": 3,
   "metadata": {},
   "outputs": [],
   "source": [
    "vectorSize = glove25d.vector_size\n",
    "glove25d.add_vectors([\"<start>\", \"<end>\", \"<unk>\"] ,np.random.randn(3, vectorSize))\n",
    "with open('../dataset/semevalRemake/wordList.json', 'r') as f:\n",
    "    content = f.read()\n",
    "wordList = [\"<unk>\", \"<start>\", \"<end>\"]\n",
    "wordList += (json.loads(content)).keys()\n",
    "word2index = {}\n",
    "index = 1\n",
    "for word in wordList:\n",
    "    if word in glove25d:\n",
    "        word2index[word] = index\n",
    "        index += 1"
   ]
  },
  {
   "cell_type": "code",
   "execution_count": 4,
   "metadata": {},
   "outputs": [],
   "source": [
    "from torch.utils.data import DataLoader\n",
    "from data import collate\n",
    "loader = DataLoader(\n",
    "    dataset,\n",
    "    shuffle = True,\n",
    "    num_workers = 1,\n",
    "    collate_fn = collate\n",
    ")"
   ]
  },
  {
   "cell_type": "code",
   "execution_count": 5,
   "metadata": {},
   "outputs": [],
   "source": [
    "from MSABiGCN import *\n",
    "from torch import optim\n",
    "model = MSABiGCN(\n",
    "    word2vec = glove25d,\n",
    "    word2index = word2index,\n",
    "    s2vDim = 64, # 使用的句嵌入的维度\n",
    "    gcnHiddenDim = 64, # GCN隐藏层的维度（GCNconv1的输出维度）\n",
    "    rumorFeatureDim = 64, # GCN输出层的维度\\\n",
    "    numStanceTag = 4,\n",
    "    numRumorTag = 3, # 谣言标签种类数\n",
    "    edgeDropRate = 0.2\n",
    ")\n",
    "device = torch.device('cuda')\n",
    "model = model.set_device(device)\n",
    "loss_func = torch.nn.CrossEntropyLoss(reduction='mean').to(device)\n",
    "optimizer = optim.AdamW(model.parameters(), lr=3e-5)"
   ]
  },
  {
   "cell_type": "code",
   "execution_count": 6,
   "metadata": {},
   "outputs": [
    {
     "name": "stderr",
     "output_type": "stream",
     "text": [
      "                                                                                                    \r"
     ]
    }
   ],
   "source": [
    "\n",
    "from tqdm import tqdm\n",
    "from torch.nn.functional import softmax\n",
    "from sklearn.metrics import f1_score\n",
    "\n",
    "rumorTrue = []\n",
    "rumorPre = []\n",
    "stanceTag = []\n",
    "stanceTrue = []\n",
    "totalLoss = 0.\n",
    "\n",
    "for epoch in range(1, 2):\n",
    "    model.train()\n",
    "    for thread in tqdm(\n",
    "        iter(loader), \n",
    "        desc=\"[epoch: {:d}] \".format(epoch), \n",
    "        leave=False, \n",
    "        ncols=100\n",
    "    ):\n",
    "        rumorTag = thread['rumorTag'].to(device)\n",
    "        rumorTrue += thread['rumorTag'].tolist()\n",
    "        stanceTag = thread['stanceTag'].to(device)\n",
    "        stanceTrue += thread['stanceTag'].tolist()\n",
    "        \n",
    "        nodeText = thread['nodeText']\n",
    "        for i in range(len(nodeText)):\n",
    "            indexList = []\n",
    "            for word in nodeText[i]:\n",
    "                if word in word2index:\n",
    "                    indexList.append(word2index[word])\n",
    "                elif word != '':\n",
    "                    indexList.append(word2index['<unk>'])\n",
    "            nodeText[i] = torch.IntTensor(indexList).to(device)\n",
    "        nodeText = pad_sequence(nodeText, padding_value=0, batch_first=True)\n",
    "        thread['nodeText'] = nodeText\n",
    "\n",
    "        optimizer.zero_grad()\n",
    "        rumorPredict, stancePredict = model.forward(thread)\n",
    "        loss = loss_func(rumorPredict, rumorTag) + loss_func(stancePredict, stanceTag)\n",
    "        totalLoss += loss\n",
    "        loss.backward()\n",
    "        optimizer.step()\n"
   ]
  },
  {
   "cell_type": "code",
   "execution_count": null,
   "metadata": {},
   "outputs": [],
   "source": []
  }
 ],
 "metadata": {
  "interpreter": {
   "hash": "53024653744be1c7fdb50f623c21bc7cbc066eeadd60abd98245bb69a9f2fbe7"
  },
  "kernelspec": {
   "display_name": "Python 3.8.12 ('xsr')",
   "language": "python",
   "name": "python3"
  },
  "language_info": {
   "codemirror_mode": {
    "name": "ipython",
    "version": 3
   },
   "file_extension": ".py",
   "mimetype": "text/x-python",
   "name": "python",
   "nbconvert_exporter": "python",
   "pygments_lexer": "ipython3",
   "version": "3.8.12"
  },
  "orig_nbformat": 4
 },
 "nbformat": 4,
 "nbformat_minor": 2
}
