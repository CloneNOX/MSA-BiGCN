{
 "cells": [
  {
   "cell_type": "code",
   "execution_count": 1,
   "metadata": {},
   "outputs": [
    {
     "name": "stderr",
     "output_type": "stream",
     "text": [
      "/root/miniconda3/envs/bigcn/lib/python3.9/site-packages/tqdm/auto.py:21: TqdmWarning: IProgress not found. Please update jupyter and ipywidgets. See https://ipywidgets.readthedocs.io/en/stable/user_install.html\n",
      "  from .autonotebook import tqdm as notebook_tqdm\n"
     ]
    }
   ],
   "source": [
    "from transformers import BertTokenizer, BertModel\n",
    "model_path = '../model/bert-base-cased'\n",
    "tokenizer = BertTokenizer.from_pretrained(model_path)\n",
    "model = BertModel.from_pretrained(model_path)"
   ]
  },
  {
   "cell_type": "code",
   "execution_count": 2,
   "metadata": {},
   "outputs": [],
   "source": [
    "text = [\"@Trump @Obama @Biden\", \"hello \\u2345\"]\n",
    "encoded_input = tokenizer(text, return_tensors='pt', padding=True)\n",
    "output = model(**encoded_input)"
   ]
  },
  {
   "cell_type": "code",
   "execution_count": 3,
   "metadata": {},
   "outputs": [
    {
     "name": "stdout",
     "output_type": "stream",
     "text": [
      "torch.Size([2, 9, 768])\n"
     ]
    }
   ],
   "source": [
    "print(output.last_hidden_state.shape)"
   ]
  },
  {
   "cell_type": "code",
   "execution_count": 4,
   "metadata": {},
   "outputs": [],
   "source": [
    "from rumorDataset import RumorStanceDataset, RumorDataset\n",
    "from torch.utils.data import DataLoader\n",
    "from transformers import BertTokenizer\n",
    "\n",
    "tokenizer = BertTokenizer.from_pretrained('../model/bert-base-cased')\n",
    "\n",
    "dataset = RumorStanceDataset('../datasets/semeval2017-task8/', 'traindev', tokenizer)"
   ]
  },
  {
   "cell_type": "code",
   "execution_count": 5,
   "metadata": {},
   "outputs": [],
   "source": [
    "loader = DataLoader(dataset, collate_fn=RumorStanceDataset.collate_fn)"
   ]
  },
  {
   "cell_type": "code",
   "execution_count": 6,
   "metadata": {},
   "outputs": [
    {
     "name": "stdout",
     "output_type": "stream",
     "text": [
      "tensor([2])\n",
      "tensor([0, 3, 3, 3, 0])\n"
     ]
    }
   ],
   "source": [
    "for node_token, edge_index_TD, edge_index_BU, root_index, rumor_label, stance_label in loader:\n",
    "    # print(node_token)\n",
    "    # print(edge_index_TD)\n",
    "    # print(edge_index_BU)\n",
    "    # print(root_index)\n",
    "    print(rumor_label)\n",
    "    print(stance_label)\n",
    "    break"
   ]
  },
  {
   "cell_type": "code",
   "execution_count": 7,
   "metadata": {},
   "outputs": [],
   "source": [
    "from transformers import BertTokenizer, BertModel\n",
    "from tqdm import tqdm\n",
    "from MSABiGCN import BertMSA\n",
    "import torch\n",
    "from torch.nn.functional import softmax\n",
    "bert_model = BertModel.from_pretrained('../model/bert-base-cased/')\n",
    "device = torch.device('cuda')\n",
    "model = BertMSA(\n",
    "    bert_model = bert_model,\n",
    "    embedding_dim = 768,\n",
    "    numStanceTag = 4,\n",
    "    batch_first = True,\n",
    "    device = device\n",
    ")\n",
    "\n",
    "bert_params_id = list(map(id, model.bert_model.parameters()))\n",
    "bert_params = filter(lambda p:id(p) in bert_params, model.parameters())\n",
    "base_params = filter(lambda p:id(p) not in bert_params, model.parameters())\n",
    "\n",
    "from torch import optim\n",
    "loss_func = torch.nn.CrossEntropyLoss(reduction='mean').to(device)\n",
    "optimizer = optim.AdamW([\n",
    "    {'params': base_params},\n",
    "    {'params': bert_params}\n",
    "], lr=1e-3)"
   ]
  },
  {
   "cell_type": "code",
   "execution_count": 8,
   "metadata": {},
   "outputs": [
    {
     "name": "stderr",
     "output_type": "stream",
     "text": [
      "                                                                                                    \r"
     ]
    }
   ],
   "source": [
    "epoch = 1\n",
    "model.train()\n",
    "stanceTrth = []\n",
    "stancePredict = []\n",
    "totalLoss = 0.\n",
    "for node_token, edge_index_TD, edge_index_BU, root_index, rumor_label, stance_label in tqdm(\n",
    "    iter(loader), \n",
    "    desc=\"[epoch: {:d}] \".format(epoch), \n",
    "    leave=False, \n",
    "    ncols=100\n",
    "):\n",
    "    stance_label = stance_label.to(device)\n",
    "    stanceTrth += stance_label.tolist()\n",
    "\n",
    "    optimizer.zero_grad()\n",
    "    result = model.forward(node_token)\n",
    "    loss = loss_func(result, stance_label)\n",
    "    totalLoss += loss\n",
    "    loss.backward()\n",
    "    optimizer.step()\n",
    "    \n",
    "    result = softmax(result, dim=1)\n",
    "    stancePredict += result.max(dim=1)[1].tolist()"
   ]
  },
  {
   "cell_type": "code",
   "execution_count": null,
   "metadata": {},
   "outputs": [],
   "source": [
    "stancePredict"
   ]
  }
 ],
 "metadata": {
  "kernelspec": {
   "display_name": "Python [conda env:bigcn]",
   "language": "python",
   "name": "conda-env-bigcn-py"
  },
  "language_info": {
   "codemirror_mode": {
    "name": "ipython",
    "version": 3
   },
   "file_extension": ".py",
   "mimetype": "text/x-python",
   "name": "python",
   "nbconvert_exporter": "python",
   "pygments_lexer": "ipython3",
   "version": "3.9.18"
  }
 },
 "nbformat": 4,
 "nbformat_minor": 4
}
