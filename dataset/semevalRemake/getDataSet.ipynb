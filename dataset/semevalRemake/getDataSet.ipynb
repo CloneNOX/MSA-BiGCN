{
 "cells": [
  {
   "cell_type": "code",
   "execution_count": 12,
   "metadata": {},
   "outputs": [],
   "source": [
    "from data import *\n",
    "from utils import *\n",
    "from copy import deepcopy\n",
    "from random import shuffle"
   ]
  },
  {
   "cell_type": "code",
   "execution_count": 13,
   "metadata": {},
   "outputs": [],
   "source": [
    "totalPosts, totalStructures = readPostAndStructure()\n",
    "totalPostIds, totalStanceTag = readPostIdAndTag()\n",
    "totalThreadIds, totalRumorTag = readThreadIdAndTag()"
   ]
  },
  {
   "cell_type": "code",
   "execution_count": 21,
   "metadata": {},
   "outputs": [],
   "source": [
    "shuffle(totalThreadIds)\n",
    "\n",
    "trainThreadIds = totalThreadIds[0:len(totalThreadIds) * 4 // 5]\n",
    "testThreadIds = totalThreadIds[len(totalThreadIds) * 4 // 5 : ]\n",
    "\n",
    "trainStructures = {}\n",
    "trainRumorTag = {}\n",
    "for id in trainThreadIds:\n",
    "    trainStructures[id] = totalStructures[id]\n",
    "    trainRumorTag[id] = totalRumorTag[id]\n",
    "testStructures = {}\n",
    "testRumorTag = {}\n",
    "for id in testThreadIds:\n",
    "    testStructures[id] = totalStructures[id]\n",
    "    testRumorTag[id] = totalRumorTag[id]\n",
    "\n",
    "trainPosts = {}\n",
    "trainPostIds = []\n",
    "trainStanceTag = {}\n",
    "for id in trainThreadIds:\n",
    "    postId = flattenStructure(trainStructures[id])\n",
    "    trainPostIds += postId\n",
    "    for pid in postId:\n",
    "        if pid in totalPosts:\n",
    "            trainStanceTag[pid] = totalStanceTag[pid]\n",
    "            trainPosts[pid] = totalPosts[pid]\n",
    "testPosts = {}\n",
    "testPostIds = []\n",
    "testStanceTag = {}\n",
    "for id in testThreadIds:\n",
    "    postId = flattenStructure(testStructures[id])\n",
    "    testPostIds += postId\n",
    "    for pid in postId:\n",
    "        if pid in totalPosts:\n",
    "            testStanceTag[pid] = totalStanceTag[pid]\n",
    "            testPosts[pid] = totalPosts[pid]\n"
   ]
  },
  {
   "cell_type": "code",
   "execution_count": 22,
   "metadata": {},
   "outputs": [],
   "source": [
    "trainSet = {'postIds': trainPostIds, 'stanceTag': trainStanceTag,\n",
    "            'threadIds': trainThreadIds, 'rumorTag': trainRumorTag,\n",
    "            'structures': trainStructures}\n",
    "testSet = {'postIds': testPostIds, 'stanceTag': testStanceTag,\n",
    "           'threadIds': testThreadIds, 'rumorTag': testRumorTag,\n",
    "           'structures': testStructures}"
   ]
  },
  {
   "cell_type": "code",
   "execution_count": 23,
   "metadata": {},
   "outputs": [
    {
     "name": "stdout",
     "output_type": "stream",
     "text": [
      "train threads: 260 , train posts: 4767\n",
      "test threads: 65 , test posts: 1148\n"
     ]
    }
   ],
   "source": [
    "print(\"train threads:\", len(trainThreadIds), \", train posts:\", len(trainPostIds))\n",
    "print(\"test threads:\", len(testThreadIds), \", test posts:\", len(testPostIds))"
   ]
  },
  {
   "cell_type": "code",
   "execution_count": 24,
   "metadata": {},
   "outputs": [
    {
     "name": "stdout",
     "output_type": "stream",
     "text": [
      "train tag num in T-F-U: 116 58 86\n",
      "test tag num in T-F-U: 29 16 20\n"
     ]
    }
   ],
   "source": [
    "rumorTag = [0,0,0] # T, F, U\n",
    "for tag in trainRumorTag:\n",
    "    if trainRumorTag[tag] == \"true\":\n",
    "        rumorTag[0] += 1\n",
    "    elif trainRumorTag[tag] == \"false\":\n",
    "        rumorTag[1] += 1\n",
    "    elif trainRumorTag[tag] == \"unverified\":\n",
    "        rumorTag[2] += 1\n",
    "print(\"train tag num in T-F-U:\", rumorTag[0], rumorTag[1], rumorTag[2])\n",
    "\n",
    "rumorTag = [0,0,0] # T, F, U\n",
    "for tag in testRumorTag:\n",
    "    if testRumorTag[tag] == \"true\":\n",
    "        rumorTag[0] += 1\n",
    "    elif testRumorTag[tag] == \"false\":\n",
    "        rumorTag[1] += 1\n",
    "    elif testRumorTag[tag] == \"unverified\":\n",
    "        rumorTag[2] += 1\n",
    "print(\"test tag num in T-F-U:\", rumorTag[0], rumorTag[1], rumorTag[2])"
   ]
  },
  {
   "cell_type": "code",
   "execution_count": 25,
   "metadata": {},
   "outputs": [
    {
     "name": "stdout",
     "output_type": "stream",
     "text": [
      "train tag num in S-Q-D-C: 800 382 344 2977\n",
      "test tag num in S-Q-D-C: 204 82 71 708\n"
     ]
    }
   ],
   "source": [
    "stanceTag = [0,0,0,0] # S-Q-D-C\n",
    "for tag in trainStanceTag:\n",
    "    if trainStanceTag[tag] == \"support\":\n",
    "        stanceTag[0] += 1\n",
    "    elif trainStanceTag[tag] == \"query\":\n",
    "        stanceTag[1] += 1\n",
    "    elif trainStanceTag[tag] == \"deny\":\n",
    "        stanceTag[2] += 1\n",
    "    elif trainStanceTag[tag] == \"comment\":\n",
    "        stanceTag[3] += 1\n",
    "print(\"train tag num in S-Q-D-C:\", stanceTag[0], stanceTag[1], stanceTag[2], stanceTag[3])\n",
    "stanceTag = [0,0,0,0] # S-Q-D-C\n",
    "\n",
    "stanceTag = [0,0,0,0] # S-Q-D-C\n",
    "for tag in testStanceTag:\n",
    "    if testStanceTag[tag] == \"support\":\n",
    "        stanceTag[0] += 1\n",
    "    elif testStanceTag[tag] == \"query\":\n",
    "        stanceTag[1] += 1\n",
    "    elif testStanceTag[tag] == \"deny\":\n",
    "        stanceTag[2] += 1\n",
    "    elif testStanceTag[tag] == \"comment\":\n",
    "        stanceTag[3] += 1\n",
    "print(\"test tag num in S-Q-D-C:\", stanceTag[0], stanceTag[1], stanceTag[2], stanceTag[3])"
   ]
  },
  {
   "cell_type": "code",
   "execution_count": 26,
   "metadata": {},
   "outputs": [],
   "source": [
    "wordList = {}\n",
    "\n",
    "for key in trainPosts:\n",
    "    text = trainPosts[key]['text']\n",
    "    words = fixText(text)\n",
    "    for word in words.split(' '):\n",
    "        if word not in wordList:\n",
    "            wordList[word] = 1\n",
    "    trainPosts[key]['text'] = words\n",
    "trainSet['posts'] = trainPosts\n",
    "trainSet['label2IndexRumor'] = label2IndexRumor\n",
    "trainSet['label2IndexStance'] = label2IndexStance\n",
    "trainSet['index2LabelRumor'] = index2LabelRumor\n",
    "trainSet['index2LabelStance'] = index2LabelStance\n",
    "\n",
    "for key in testPosts:\n",
    "    text = testPosts[key]['text']\n",
    "    words = fixText(text)\n",
    "    # for word in words.split(' '):\n",
    "        # if word not in wordList:\n",
    "        #     wordList[word] = 1\n",
    "    testPosts[key]['text'] = words\n",
    "testSet['posts'] = testPosts\n",
    "testSet['label2IndexRumor'] = label2IndexRumor\n",
    "testSet['label2IndexStance'] = label2IndexStance\n",
    "testSet['index2LabelRumor'] = index2LabelRumor\n",
    "testSet['index2LabelStance'] = index2LabelStance"
   ]
  },
  {
   "cell_type": "code",
   "execution_count": 27,
   "metadata": {},
   "outputs": [
    {
     "name": "stdout",
     "output_type": "stream",
     "text": [
      "9291\n"
     ]
    }
   ],
   "source": [
    "import json\n",
    "with open('trainSet.json', 'w') as f:\n",
    "    f.write(json.dumps(trainSet))\n",
    "with open('testSet.json', 'w') as f:\n",
    "    f.write(json.dumps(testSet))\n",
    "with open('wordList.json', 'w') as f:\n",
    "    f.write(json.dumps(wordList))\n",
    "print(len(wordList))"
   ]
  },
  {
   "cell_type": "code",
   "execution_count": null,
   "metadata": {},
   "outputs": [],
   "source": []
  }
 ],
 "metadata": {
  "kernelspec": {
   "display_name": "Python 3",
   "language": "python",
   "name": "python3"
  },
  "language_info": {
   "codemirror_mode": {
    "name": "ipython",
    "version": 3
   },
   "file_extension": ".py",
   "mimetype": "text/x-python",
   "name": "python",
   "nbconvert_exporter": "python",
   "pygments_lexer": "ipython3",
   "version": "3.8.12"
  }
 },
 "nbformat": 4,
 "nbformat_minor": 4
}
