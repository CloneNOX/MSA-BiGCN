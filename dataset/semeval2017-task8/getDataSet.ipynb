{
 "cells": [
  {
   "cell_type": "code",
   "execution_count": 1,
   "metadata": {},
   "outputs": [],
   "source": [
    "import gensim\n",
    "from gensim.models.keyedvectors import KeyedVectors\n",
    "from data import *\n",
    "from utils import *\n",
    "\n",
    "GLOVE_PATH = '../glove/' # glove预训练词嵌入的相对位置\n",
    "WORD2VEC_DIMS = ['glove.twitter.27B.25d.gensim.txt', \n",
    "                 'glove.twitter.27B.50d.gensim.txt', \n",
    "                 'glove.twitter.27B.100d.gensim.txt', \n",
    "                 'glove.twitter.27B.200d.gensim.txt']"
   ]
  },
  {
   "cell_type": "code",
   "execution_count": 2,
   "metadata": {},
   "outputs": [],
   "source": [
    "trainPostIds, trainStanceTag = readPostIdAndTag()\n",
    "trainThreadIds, trainRumorTag = readThreadIdAndTag()\n",
    "trainPosts, structures = readPostsStruct()\n",
    "testPostIds, testStanceTag = readTestPostIdAndTag()\n",
    "testThreadIds, testRumorTag = readTestThreadIdAndTag()\n",
    "testPosts, testStructures = readTestPostsStruct()"
   ]
  },
  {
   "cell_type": "code",
   "execution_count": 3,
   "metadata": {},
   "outputs": [],
   "source": [
    "glove25d = KeyedVectors.load_word2vec_format(GLOVE_PATH + WORD2VEC_DIMS[0], binary=False)"
   ]
  },
  {
   "cell_type": "code",
   "execution_count": 4,
   "metadata": {},
   "outputs": [],
   "source": [
    "trainSet = {'postIds': trainPostIds, 'stanceTag': trainStanceTag,\n",
    "            'threadIds': trainThreadIds, 'rumorTag': trainRumorTag,\n",
    "            'structures': structures}\n",
    "testSet = {'postIds': testPostIds, 'stanceTag': testStanceTag,\n",
    "           'threadIds': testThreadIds, 'rumorTag': testRumorTag,\n",
    "           'structures': testStructures}"
   ]
  },
  {
   "cell_type": "code",
   "execution_count": 5,
   "metadata": {},
   "outputs": [],
   "source": [
    "for key in trainPosts:\n",
    "    text = trainPosts[key]['text']\n",
    "    words = fixText(text)\n",
    "    for i in range(len(words)):\n",
    "        if words[i] not in glove25d:\n",
    "            words[i] = '<pad>'\n",
    "    trainPosts[key]['text'] = ' '.join(words)\n",
    "trainSet['posts'] = trainPosts\n",
    "trainSet['label2IndexRumor'] = label2IndexRumor\n",
    "trainSet['label2IndexStance'] = label2IndexStance\n",
    "trainSet['index2LabelRumor'] = index2LabelRumor\n",
    "trainSet['index2LabelStance'] = index2LabelStance\n",
    "\n",
    "for key in testPosts:\n",
    "    text = testPosts[key]['text']\n",
    "    words = fixText(text)\n",
    "    for i in range(len(words)):\n",
    "        if words[i] not in glove25d:\n",
    "            words[i] = '<pad>'\n",
    "    testPosts[key]['text'] = ' '.join(words)\n",
    "testSet['posts'] = testPosts\n",
    "testSet['label2IndexRumor'] = label2IndexRumor\n",
    "testSet['label2IndexStance'] = label2IndexStance\n",
    "testSet['index2LabelRumor'] = index2LabelRumor\n",
    "testSet['index2LabelStance'] = index2LabelStance"
   ]
  },
  {
   "cell_type": "code",
   "execution_count": 6,
   "metadata": {},
   "outputs": [],
   "source": [
    "import json\n",
    "with open('trainSet.json', 'w') as f:\n",
    "    f.write(json.dumps(trainSet))\n",
    "with open('testSet.json', 'w') as f:\n",
    "    f.write(json.dumps(testSet))"
   ]
  },
  {
   "cell_type": "code",
   "execution_count": null,
   "metadata": {},
   "outputs": [],
   "source": []
  }
 ],
 "metadata": {
  "kernelspec": {
   "display_name": "Python 3",
   "language": "python",
   "name": "python3"
  },
  "language_info": {
   "codemirror_mode": {
    "name": "ipython",
    "version": 3
   },
   "file_extension": ".py",
   "mimetype": "text/x-python",
   "name": "python",
   "nbconvert_exporter": "python",
   "pygments_lexer": "ipython3",
   "version": "3.7.6"
  }
 },
 "nbformat": 4,
 "nbformat_minor": 4
}
