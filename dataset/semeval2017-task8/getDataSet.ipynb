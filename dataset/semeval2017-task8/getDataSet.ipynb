{
 "cells": [
  {
   "cell_type": "code",
   "execution_count": 8,
   "metadata": {},
   "outputs": [],
   "source": [
    "import gensim\n",
    "from gensim.models.keyedvectors import KeyedVectors\n",
    "from data import *\n",
    "from utils import *"
   ]
  },
  {
   "cell_type": "code",
   "execution_count": 9,
   "metadata": {},
   "outputs": [],
   "source": [
    "trainDevPosts, trainDevStructures = readPostsStruct()\n",
    "\n",
    "trainPostIds, trainStanceTag = readTrainPostIdAndTag()\n",
    "trainThreadIds, trainRumorTag = readTrainThreadIdAndTag()\n",
    "trainPosts = {}\n",
    "trainStructures = {}\n",
    "for id in trainPostIds:\n",
    "    trainPosts[id] = trainDevPosts[id]\n",
    "for id in trainThreadIds:\n",
    "    trainStructures[id] = trainDevStructures[id]\n",
    "\n",
    "devPostIds, devStanceTag = readDevPostIdAndTag()\n",
    "devThreadIds, devRumorTag = readDevThreadIdAndTag()\n",
    "devPosts ={}\n",
    "devStructures = {}\n",
    "for id in devPostIds:\n",
    "    devPosts[id] = trainDevPosts[id]\n",
    "for id in devThreadIds:\n",
    "    devStructures[id] = trainDevStructures[id]\n",
    "\n",
    "testPostIds, testStanceTag = readTestPostIdAndTag()\n",
    "testThreadIds, testRumorTag = readTestThreadIdAndTag()\n",
    "testPosts, testStructures = readTestPostsStruct()"
   ]
  },
  {
   "cell_type": "code",
   "execution_count": 10,
   "metadata": {},
   "outputs": [
    {
     "name": "stdout",
     "output_type": "stream",
     "text": [
      "272 4238\n",
      "25 281\n",
      "28 1049\n"
     ]
    }
   ],
   "source": [
    "print(len(trainThreadIds), len(trainPostIds))\n",
    "print(len(devThreadIds), len(devPostIds))\n",
    "print(len(testThreadIds), len(testPostIds))"
   ]
  },
  {
   "cell_type": "code",
   "execution_count": 11,
   "metadata": {},
   "outputs": [],
   "source": [
    "trainSet = {'postIds': trainPostIds, 'stanceTag': trainStanceTag,\n",
    "            'threadIds': trainThreadIds, 'rumorTag': trainRumorTag,\n",
    "            'structures': trainStructures}\n",
    "devSet = {'postIds': devPostIds, 'stanceTag': devStanceTag,\n",
    "          'threadIds': devThreadIds, 'rumorTag': devRumorTag,\n",
    "          'structures': devStructures}\n",
    "testSet = {'postIds': testPostIds, 'stanceTag': testStanceTag,\n",
    "           'threadIds': testThreadIds, 'rumorTag': testRumorTag,\n",
    "           'structures': testStructures}"
   ]
  },
  {
   "cell_type": "code",
   "execution_count": 12,
   "metadata": {},
   "outputs": [],
   "source": [
    "wordList = {}\n",
    "\n",
    "for key in trainPosts:\n",
    "    text = trainPosts[key]['text']\n",
    "    words = fixText(text)\n",
    "    for word in words.split(' '):\n",
    "        if word not in wordList:\n",
    "            wordList[word] = 1\n",
    "    trainPosts[key]['text'] = words\n",
    "trainSet['posts'] = trainPosts\n",
    "trainSet['label2IndexRumor'] = label2IndexRumor\n",
    "trainSet['label2IndexStance'] = label2IndexStance\n",
    "trainSet['index2LabelRumor'] = index2LabelRumor\n",
    "trainSet['index2LabelStance'] = index2LabelStance\n",
    "\n",
    "for key in devPosts:\n",
    "    text = devPosts[key]['text']\n",
    "    words = fixText(text)\n",
    "    for word in words.split(' '):\n",
    "        if word not in wordList:\n",
    "            wordList[word] = 1\n",
    "    devPosts[key]['text'] = words\n",
    "devSet['posts'] = devPosts\n",
    "devSet['label2IndexRumor'] = label2IndexRumor\n",
    "devSet['label2IndexStance'] = label2IndexStance\n",
    "devSet['index2LabelRumor'] = index2LabelRumor\n",
    "devSet['index2LabelStance'] = index2LabelStance\n",
    "\n",
    "for key in testPosts:\n",
    "    text = testPosts[key]['text']\n",
    "    words = fixText(text)\n",
    "    for word in words.split(' '):\n",
    "        if word not in wordList:\n",
    "            wordList[word] = 1\n",
    "    testPosts[key]['text'] = words\n",
    "testSet['posts'] = testPosts\n",
    "testSet['label2IndexRumor'] = label2IndexRumor\n",
    "testSet['label2IndexStance'] = label2IndexStance\n",
    "testSet['index2LabelRumor'] = index2LabelRumor\n",
    "testSet['index2LabelStance'] = index2LabelStance"
   ]
  },
  {
   "cell_type": "code",
   "execution_count": 15,
   "metadata": {},
   "outputs": [
    {
     "name": "stdout",
     "output_type": "stream",
     "text": [
      "10815\n"
     ]
    }
   ],
   "source": [
    "import json\n",
    "with open('trainSet.json', 'w') as f:\n",
    "    f.write(json.dumps(trainSet))\n",
    "with open('devSet.json', 'w') as f:\n",
    "    f.write(json.dumps(devSet))\n",
    "with open('testSet.json', 'w') as f:\n",
    "    f.write(json.dumps(testSet))\n",
    "with open('wordList.json', 'w') as f:\n",
    "    f.write(json.dumps(wordList))\n",
    "print(len(wordList))"
   ]
  },
  {
   "cell_type": "code",
   "execution_count": null,
   "metadata": {},
   "outputs": [],
   "source": []
  }
 ],
 "metadata": {
  "kernelspec": {
   "display_name": "Python 3",
   "language": "python",
   "name": "python3"
  },
  "language_info": {
   "codemirror_mode": {
    "name": "ipython",
    "version": 3
   },
   "file_extension": ".py",
   "mimetype": "text/x-python",
   "name": "python",
   "nbconvert_exporter": "python",
   "pygments_lexer": "ipython3",
   "version": "3.8.12"
  }
 },
 "nbformat": 4,
 "nbformat_minor": 4
}
