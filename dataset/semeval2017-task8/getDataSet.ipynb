{
 "cells": [
  {
   "cell_type": "code",
   "execution_count": 1,
   "metadata": {},
   "outputs": [],
   "source": [
    "import gensim\n",
    "from gensim.models.keyedvectors import KeyedVectors\n",
    "from data import *\n",
    "from utils import *\n"
   ]
  },
  {
   "cell_type": "code",
   "execution_count": 2,
   "metadata": {},
   "outputs": [],
   "source": [
    "trainDevPosts, trainDevStructures = readPostsStruct()\n",
    "\n",
    "trainPostIds, trainStanceTag = readTrainPostIdAndTag()\n",
    "trainThreadIds, trainRumorTag = readTrainThreadIdAndTag()\n",
    "trainPosts = {}\n",
    "trainStructures = {}\n",
    "for id in trainPostIds:\n",
    "    trainPosts[id] = trainDevPosts[id]\n",
    "for id in trainThreadIds:\n",
    "    trainStructures[id] = trainDevStructures[id]\n",
    "\n",
    "devPostIds, devStanceTag = readDevPostIdAndTag()\n",
    "devThreadIds, devRumorTag = readDevThreadIdAndTag()\n",
    "devPosts ={}\n",
    "devStructures = {}\n",
    "for id in devPostIds:\n",
    "    devPosts[id] = trainDevPosts[id]\n",
    "for id in devThreadIds:\n",
    "    devStructures[id] = trainDevStructures[id]\n",
    "\n",
    "testPostIds, testStanceTag = readTestPostIdAndTag()\n",
    "testThreadIds, testRumorTag = readTestThreadIdAndTag()\n",
    "testPosts, testStructures = readTestPostsStruct()"
   ]
  },
  {
   "cell_type": "code",
   "execution_count": 5,
   "metadata": {},
   "outputs": [
    {
     "name": "stdout",
     "output_type": "stream",
     "text": [
      "train threads: 272 , train posts: 4238\n",
      "dev threads: 25 , dev posts: 281\n",
      "test threads: 28 , test posts: 1049\n"
     ]
    }
   ],
   "source": [
    "print(\"train threads:\", len(trainThreadIds), \", train posts:\", len(trainPostIds))\n",
    "print(\"dev threads:\", len(devThreadIds), \", dev posts:\", len(devPostIds))\n",
    "print(\"test threads:\", len(testThreadIds), \", test posts:\", len(testPostIds))"
   ]
  },
  {
   "cell_type": "code",
   "execution_count": 17,
   "metadata": {},
   "outputs": [
    {
     "name": "stdout",
     "output_type": "stream",
     "text": [
      "train tag num in T-F-U: 127 50 95\n",
      "dev tag num in T-F-U: 10 12 3\n",
      "test tag num in T-F-U: 8 12 8\n"
     ]
    }
   ],
   "source": [
    "rumorTag = [0,0,0] # T, F, U\n",
    "for tag in trainRumorTag:\n",
    "    if trainRumorTag[tag] == \"true\":\n",
    "        rumorTag[0] += 1\n",
    "    elif trainRumorTag[tag] == \"false\":\n",
    "        rumorTag[1] += 1\n",
    "    elif trainRumorTag[tag] == \"unverified\":\n",
    "        rumorTag[2] += 1\n",
    "print(\"train tag num in T-F-U:\", rumorTag[0], rumorTag[1], rumorTag[2])\n",
    "rumorTag = [0,0,0] # T, F, U\n",
    "for tag in devRumorTag:\n",
    "    if devRumorTag[tag] == \"true\":\n",
    "        rumorTag[0] += 1\n",
    "    elif devRumorTag[tag] == \"false\":\n",
    "        rumorTag[1] += 1\n",
    "    elif devRumorTag[tag] == \"unverified\":\n",
    "        rumorTag[2] += 1\n",
    "print(\"dev tag num in T-F-U:\", rumorTag[0], rumorTag[1], rumorTag[2])\n",
    "rumorTag = [0,0,0] # T, F, U\n",
    "for tag in testRumorTag:\n",
    "    if testRumorTag[tag] == \"true\":\n",
    "        rumorTag[0] += 1\n",
    "    elif testRumorTag[tag] == \"false\":\n",
    "        rumorTag[1] += 1\n",
    "    elif testRumorTag[tag] == \"unverified\":\n",
    "        rumorTag[2] += 1\n",
    "print(\"test tag num in T-F-U:\", rumorTag[0], rumorTag[1], rumorTag[2])"
   ]
  },
  {
   "cell_type": "code",
   "execution_count": 18,
   "metadata": {},
   "outputs": [
    {
     "name": "stdout",
     "output_type": "stream",
     "text": [
      "train tag num in S-Q-D-C: 841 330 333 2734\n",
      "dev tag num in S-Q-D-C: 69 28 11 173\n",
      "test tag num in S-Q-D-C: 94 106 71 778\n"
     ]
    }
   ],
   "source": [
    "stanceTag = [0,0,0,0] # S-Q-D-C\n",
    "for tag in trainStanceTag:\n",
    "    if trainStanceTag[tag] == \"support\":\n",
    "        stanceTag[0] += 1\n",
    "    elif trainStanceTag[tag] == \"query\":\n",
    "        stanceTag[1] += 1\n",
    "    elif trainStanceTag[tag] == \"deny\":\n",
    "        stanceTag[2] += 1\n",
    "    elif trainStanceTag[tag] == \"comment\":\n",
    "        stanceTag[3] += 1\n",
    "print(\"train tag num in S-Q-D-C:\", stanceTag[0], stanceTag[1], stanceTag[2], stanceTag[3])\n",
    "stanceTag = [0,0,0,0] # S-Q-D-C\n",
    "for tag in devStanceTag:\n",
    "    if devStanceTag[tag] == \"support\":\n",
    "        stanceTag[0] += 1\n",
    "    elif devStanceTag[tag] == \"query\":\n",
    "        stanceTag[1] += 1\n",
    "    elif devStanceTag[tag] == \"deny\":\n",
    "        stanceTag[2] += 1\n",
    "    elif devStanceTag[tag] == \"comment\":\n",
    "        stanceTag[3] += 1\n",
    "print(\"dev tag num in S-Q-D-C:\", stanceTag[0], stanceTag[1], stanceTag[2], stanceTag[3])\n",
    "stanceTag = [0,0,0,0] # S-Q-D-C\n",
    "for tag in testStanceTag:\n",
    "    if testStanceTag[tag] == \"support\":\n",
    "        stanceTag[0] += 1\n",
    "    elif testStanceTag[tag] == \"query\":\n",
    "        stanceTag[1] += 1\n",
    "    elif testStanceTag[tag] == \"deny\":\n",
    "        stanceTag[2] += 1\n",
    "    elif testStanceTag[tag] == \"comment\":\n",
    "        stanceTag[3] += 1\n",
    "print(\"test tag num in S-Q-D-C:\", stanceTag[0], stanceTag[1], stanceTag[2], stanceTag[3])"
   ]
  },
  {
   "cell_type": "code",
   "execution_count": 4,
   "metadata": {},
   "outputs": [],
   "source": [
    "trainSet = {'postIds': trainPostIds, 'stanceTag': trainStanceTag,\n",
    "            'threadIds': trainThreadIds, 'rumorTag': trainRumorTag,\n",
    "            'structures': trainStructures}\n",
    "devSet = {'postIds': devPostIds, 'stanceTag': devStanceTag,\n",
    "          'threadIds': devThreadIds, 'rumorTag': devRumorTag,\n",
    "          'structures': devStructures}\n",
    "testSet = {'postIds': testPostIds, 'stanceTag': testStanceTag,\n",
    "           'threadIds': testThreadIds, 'rumorTag': testRumorTag,\n",
    "           'structures': testStructures}"
   ]
  },
  {
   "cell_type": "code",
   "execution_count": 5,
   "metadata": {},
   "outputs": [],
   "source": [
    "wordList = {}\n",
    "\n",
    "for key in trainPosts:\n",
    "    text = trainPosts[key]['text']\n",
    "    words = fixText(text)\n",
    "    for word in words.split(' '):\n",
    "        if word not in wordList:\n",
    "            wordList[word] = 1\n",
    "    trainPosts[key]['text'] = words\n",
    "trainSet['posts'] = trainPosts\n",
    "trainSet['label2IndexRumor'] = label2IndexRumor\n",
    "trainSet['label2IndexStance'] = label2IndexStance\n",
    "trainSet['index2LabelRumor'] = index2LabelRumor\n",
    "trainSet['index2LabelStance'] = index2LabelStance\n",
    "\n",
    "for key in devPosts:\n",
    "    text = devPosts[key]['text']\n",
    "    words = fixText(text)\n",
    "    # for word in words.split(' '):\n",
    "        # if word not in wordList:\n",
    "        #     wordList[word] = 1\n",
    "    devPosts[key]['text'] = words\n",
    "devSet['posts'] = devPosts\n",
    "devSet['label2IndexRumor'] = label2IndexRumor\n",
    "devSet['label2IndexStance'] = label2IndexStance\n",
    "devSet['index2LabelRumor'] = index2LabelRumor\n",
    "devSet['index2LabelStance'] = index2LabelStance\n",
    "\n",
    "for key in testPosts:\n",
    "    text = testPosts[key]['text']\n",
    "    words = fixText(text)\n",
    "    # for word in words.split(' '):\n",
    "        # if word not in wordList:\n",
    "        #     wordList[word] = 1\n",
    "    testPosts[key]['text'] = words\n",
    "testSet['posts'] = testPosts\n",
    "testSet['label2IndexRumor'] = label2IndexRumor\n",
    "testSet['label2IndexStance'] = label2IndexStance\n",
    "testSet['index2LabelRumor'] = index2LabelRumor\n",
    "testSet['index2LabelStance'] = index2LabelStance"
   ]
  },
  {
   "cell_type": "code",
   "execution_count": 6,
   "metadata": {},
   "outputs": [
    {
     "name": "stdout",
     "output_type": "stream",
     "text": [
      "8886\n"
     ]
    }
   ],
   "source": [
    "# import json\n",
    "# with open('trainSet.json', 'w') as f:\n",
    "#     f.write(json.dumps(trainSet))\n",
    "# with open('devSet.json', 'w') as f:\n",
    "#     f.write(json.dumps(devSet))\n",
    "# with open('testSet.json', 'w') as f:\n",
    "#     f.write(json.dumps(testSet))\n",
    "# with open('wordList.json', 'w') as f:\n",
    "#     f.write(json.dumps(wordList))\n",
    "# print(len(wordList))"
   ]
  },
  {
   "cell_type": "code",
   "execution_count": null,
   "metadata": {},
   "outputs": [],
   "source": []
  }
 ],
 "metadata": {
  "kernelspec": {
   "display_name": "Python 3",
   "language": "python",
   "name": "python3"
  },
  "language_info": {
   "codemirror_mode": {
    "name": "ipython",
    "version": 3
   },
   "file_extension": ".py",
   "mimetype": "text/x-python",
   "name": "python",
   "nbconvert_exporter": "python",
   "pygments_lexer": "ipython3",
   "version": "3.8.12"
  }
 },
 "nbformat": 4,
 "nbformat_minor": 4
}
