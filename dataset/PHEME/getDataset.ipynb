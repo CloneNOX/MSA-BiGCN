{
 "cells": [
  {
   "cell_type": "code",
   "execution_count": 1,
   "metadata": {},
   "outputs": [],
   "source": [
    "from data import *\n",
    "threadId, postId, threadTag, structures, posts = getThread()"
   ]
  },
  {
   "cell_type": "code",
   "execution_count": 2,
   "metadata": {},
   "outputs": [
    {
     "name": "stdout",
     "output_type": "stream",
     "text": [
      "train thread num:  5354\n",
      "train post num:  87078\n",
      "train tag num in N-T-F-U: 3367 888 533 566\n",
      "test thread num:  1071\n",
      "test post num:  17504\n",
      "test tag num in N-T-F-U: 656 179 105 131\n"
     ]
    }
   ],
   "source": [
    "from random import shuffle\n",
    "shuffle(threadId)\n",
    "bound = len(threadId) * 5 // 6\n",
    "\n",
    "trainThreadId = threadId[0:bound]\n",
    "trainPostId = []\n",
    "for id in trainThreadId:\n",
    "    for pid in posts[id]:\n",
    "        trainPostId.append(pid)\n",
    "trainTag = {}\n",
    "for id in trainThreadId:\n",
    "    trainTag[id] = threadTag[id]\n",
    "trainStructures = {}\n",
    "for id in trainThreadId:\n",
    "    trainStructures[id] = structures[id]\n",
    "trainPosts = {}\n",
    "for id in trainThreadId:\n",
    "    for pid in posts[id]:\n",
    "        trainPosts[pid] = posts[id][pid]\n",
    "\n",
    "testThreadId = threadId[bound:]\n",
    "testPostId = []\n",
    "for id in testThreadId:\n",
    "    for pid in posts[id]:\n",
    "        testPostId.append(pid)\n",
    "testTag = {}\n",
    "for id in testThreadId:\n",
    "    testTag[id] = threadTag[id]\n",
    "testStructures = {}\n",
    "for id in testThreadId:\n",
    "    testStructures[id] = structures[id]\n",
    "testPosts = {}\n",
    "for id in testThreadId:\n",
    "    for pid in posts[id]:\n",
    "        testPosts[pid] = posts[id][pid]\n",
    "\n",
    "\n",
    "print('train thread num: ', len(trainThreadId))\n",
    "print('train post num: ', len(trainPostId))\n",
    "label = [0,0,0,0]\n",
    "for id in trainThreadId:\n",
    "    label[trainTag[id]] += 1\n",
    "print('train tag num in N-T-F-U:', label[0], label[1], label[2], label[3])\n",
    "\n",
    "print('test thread num: ', len(testThreadId))\n",
    "print('test post num: ', len(testPostId))\n",
    "label = [0,0,0,0]\n",
    "for id in testThreadId:\n",
    "    label[testTag[id]] += 1\n",
    "print('test tag num in N-T-F-U:', label[0], label[1], label[2], label[3])"
   ]
  },
  {
   "cell_type": "code",
   "execution_count": 5,
   "metadata": {},
   "outputs": [],
   "source": [
    "wordList = {}\n",
    "for key in trainPosts:\n",
    "    text = trainPosts[key]['text']\n",
    "    words = fixText(text)\n",
    "    for word in words.split(' '):\n",
    "        if word not in wordList:\n",
    "            wordList[word] = 1\n",
    "    trainPosts[key]['text'] = words\n",
    "trainSet = {\n",
    "    'threadIds': trainThreadId,\n",
    "    'postIds': trainPostId,\n",
    "    'rumorTags': trainTag,\n",
    "    'structures': trainStructures,\n",
    "    'posts': trainPosts,\n",
    "    'label2Index': label2Index\n",
    "}\n",
    "testSet = {\n",
    "    'threadIds': testThreadId,\n",
    "    'postIds': testPostId,\n",
    "    'rumorTags': testTag,\n",
    "    'structures': testStructures,\n",
    "    'posts': testPosts,\n",
    "    'label2Index': label2Index\n",
    "}"
   ]
  },
  {
   "cell_type": "code",
   "execution_count": 6,
   "metadata": {},
   "outputs": [
    {
     "name": "stdout",
     "output_type": "stream",
     "text": [
      "78405\n"
     ]
    }
   ],
   "source": [
    "with open('trainSet.json', 'w') as f:\n",
    "    f.write(json.dumps(trainSet))\n",
    "# with open('devSet.json', 'w') as f:\n",
    "#     f.write(json.dumps(devSet))\n",
    "with open('testSet.json', 'w') as f:\n",
    "    f.write(json.dumps(testSet))\n",
    "with open('wordList.json', 'w') as f:\n",
    "    f.write(json.dumps(wordList))\n",
    "print(len(wordList))"
   ]
  },
  {
   "cell_type": "code",
   "execution_count": null,
   "metadata": {},
   "outputs": [],
   "source": []
  }
 ],
 "metadata": {
  "interpreter": {
   "hash": "53024653744be1c7fdb50f623c21bc7cbc066eeadd60abd98245bb69a9f2fbe7"
  },
  "kernelspec": {
   "display_name": "Python 3.8.12 ('xsr')",
   "language": "python",
   "name": "python3"
  },
  "language_info": {
   "codemirror_mode": {
    "name": "ipython",
    "version": 3
   },
   "file_extension": ".py",
   "mimetype": "text/x-python",
   "name": "python",
   "nbconvert_exporter": "python",
   "pygments_lexer": "ipython3",
   "version": "3.8.12"
  },
  "orig_nbformat": 4
 },
 "nbformat": 4,
 "nbformat_minor": 2
}
