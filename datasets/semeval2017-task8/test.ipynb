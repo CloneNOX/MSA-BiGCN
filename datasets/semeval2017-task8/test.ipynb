{
 "cells": [
  {
   "cell_type": "code",
   "execution_count": 3,
   "metadata": {},
   "outputs": [],
   "source": [
    "import json\n",
    "with open('./trainSet.json') as f:\n",
    "    content = json.loads(f.read())"
   ]
  },
  {
   "cell_type": "code",
   "execution_count": 10,
   "metadata": {},
   "outputs": [],
   "source": [
    "def flattenStructure(structure: dict, layer: int):\n",
    "    Ids = []\n",
    "    if not structure:\n",
    "        return Ids # 当前dict为空，直接返回空列表\n",
    "    Ids += list(structure.keys())\n",
    "    deep = layer\n",
    "    for id in structure:\n",
    "        if structure[id]: # 子dict不为空，递归地展开\n",
    "            new, deep = flattenStructure(structure[id], layer + 1)\n",
    "            Ids += new\n",
    "    return Ids, deep"
   ]
  },
  {
   "cell_type": "code",
   "execution_count": 12,
   "metadata": {},
   "outputs": [
    {
     "name": "stdout",
     "output_type": "stream",
     "text": [
      "498430783699554305\n"
     ]
    }
   ],
   "source": [
    "for id in content['threadIds']:\n",
    "    struct, layer = flattenStructure(content['structures'][id], 0)\n",
    "    if layer >= 3:\n",
    "        print(id)\n",
    "        break\n",
    "        "
   ]
  },
  {
   "cell_type": "code",
   "execution_count": 15,
   "metadata": {},
   "outputs": [
    {
     "data": {
      "text/plain": [
       "{'498430783699554305': {'498432131669192704': {'498455038701092864': [],\n",
       "   '498455687836758016': [],\n",
       "   '498456361286795265': {'498465487635099648': [], '498471393538093056': []}},\n",
       "  '498433698149056513': {'498488174923227136': []},\n",
       "  '498440508256292864': {'498448178270990336': [],\n",
       "   '498448625643831296': [],\n",
       "   '498488821197991937': [],\n",
       "   '498504798971650049': {'498521904396115971': []}},\n",
       "  '498451864112074752': [],\n",
       "  '498452460881870848': [],\n",
       "  '498452989930401792': [],\n",
       "  '498453364045529088': [],\n",
       "  '498453873124970496': [],\n",
       "  '498454395248721920': [],\n",
       "  '498474828278804481': []}}"
      ]
     },
     "execution_count": 15,
     "metadata": {},
     "output_type": "execute_result"
    }
   ],
   "source": [
    "content['structures']['498430783699554305']\n"
   ]
  },
  {
   "cell_type": "code",
   "execution_count": 22,
   "metadata": {},
   "outputs": [
    {
     "data": {
      "text/plain": [
       "{'time': 1407655017.0,\n",
       " 'text': ' @ supreme _  _  _ power  @ michaelskolnik you so edgy . '}"
      ]
     },
     "execution_count": 22,
     "metadata": {},
     "output_type": "execute_result"
    }
   ],
   "source": [
    "content['posts']['498488174923227136']"
   ]
  },
  {
   "cell_type": "code",
   "execution_count": null,
   "metadata": {},
   "outputs": [],
   "source": []
  }
 ],
 "metadata": {
  "kernelspec": {
   "display_name": "Python 3",
   "language": "python",
   "name": "python3"
  },
  "language_info": {
   "codemirror_mode": {
    "name": "ipython",
    "version": 3
   },
   "file_extension": ".py",
   "mimetype": "text/x-python",
   "name": "python",
   "nbconvert_exporter": "python",
   "pygments_lexer": "ipython3",
   "version": "3.8.12"
  }
 },
 "nbformat": 4,
 "nbformat_minor": 4
}
