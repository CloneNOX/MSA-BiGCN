{
 "cells": [
  {
   "cell_type": "code",
   "execution_count": 1,
   "metadata": {},
   "outputs": [
    {
     "name": "stderr",
     "output_type": "stream",
     "text": [
      "charliehebdo non-rumor: 100%|██████████| 1622/1622 [00:02<00:00, 643.69it/s]\n",
      "charliehebdo rumor: 100%|██████████| 459/459 [00:00<00:00, 775.00it/s]\n",
      "ebola-essien non-rumor: 0it [00:00, ?it/s]\n",
      "ebola-essien rumor: 100%|██████████| 15/15 [00:00<00:00, 776.70it/s]\n",
      "ferguson non-rumor: 100%|██████████| 860/860 [00:01<00:00, 616.78it/s]\n",
      "ferguson rumor: 100%|██████████| 285/285 [00:00<00:00, 515.49it/s]\n",
      "germanwings-crash non-rumor: 100%|██████████| 231/231 [00:00<00:00, 1356.71it/s]\n",
      "germanwings-crash rumor: 100%|██████████| 239/239 [00:00<00:00, 1157.08it/s]\n",
      "gurlitt non-rumor: 100%|██████████| 78/78 [00:00<00:00, 7828.56it/s]\n",
      "gurlitt rumor: 100%|██████████| 62/62 [00:00<00:00, 5516.25it/s]\n",
      "ottawashooting non-rumor: 100%|██████████| 420/420 [00:00<00:00, 906.86it/s]\n",
      "ottawashooting rumor: 100%|██████████| 471/471 [00:00<00:00, 901.10it/s]\n",
      "prince-toronto non-rumor: 100%|██████████| 4/4 [00:00<00:00, 4056.39it/s]\n",
      "prince-toronto rumor: 100%|██████████| 230/230 [00:00<00:00, 2738.54it/s]\n",
      "putinmissing non-rumor: 100%|██████████| 113/113 [00:00<00:00, 3645.76it/s]\n",
      "putinmissing rumor: 100%|██████████| 127/127 [00:00<00:00, 2851.73it/s]\n",
      "sydneysiege non-rumor: 100%|██████████| 699/699 [00:01<00:00, 585.05it/s]\n",
      "sydneysiege rumor: 100%|██████████| 523/523 [00:00<00:00, 750.97it/s]\n"
     ]
    }
   ],
   "source": [
    "from process import ProcessRNRDataset\n",
    "threadId, postId, threadTag, structures, posts = ProcessRNRDataset()"
   ]
  },
  {
   "cell_type": "code",
   "execution_count": 3,
   "metadata": {},
   "outputs": [],
   "source": [
    "with open('./all/thread_id.txt', 'w') as f:\n",
    "    for id in threadId:\n",
    "        f.write(id + '\\n')\n"
   ]
  },
  {
   "cell_type": "code",
   "execution_count": 4,
   "metadata": {},
   "outputs": [],
   "source": [
    "with open('./all/post_id.txt', 'w') as f:\n",
    "    for id in postId:\n",
    "        f.write(id + '\\n')\n",
    "        "
   ]
  },
  {
   "cell_type": "code",
   "execution_count": 5,
   "metadata": {},
   "outputs": [],
   "source": [
    "with open('./all/thread_label.txt', 'w') as f:\n",
    "    for id in threadId:\n",
    "        f.write(str(threadTag[id]) + '\\n')"
   ]
  },
  {
   "cell_type": "code",
   "execution_count": 6,
   "metadata": {},
   "outputs": [],
   "source": [
    "import json\n",
    "with open('./all/structures.json', 'w') as f:\n",
    "    json.dump(structures, f)"
   ]
  },
  {
   "cell_type": "code",
   "execution_count": 7,
   "metadata": {},
   "outputs": [],
   "source": [
    "import json\n",
    "with open('./all/posts.json', 'w') as f:\n",
    "    json.dump(posts, f)"
   ]
  },
  {
   "cell_type": "code",
   "execution_count": null,
   "metadata": {},
   "outputs": [],
   "source": [
    "import json\n",
    "from process import label2Index\n",
    "with open('./rumorCategory.json', 'w') as f:\n",
    "    json.dump(label2Index, f)"
   ]
  },
  {
   "cell_type": "code",
   "execution_count": 2,
   "metadata": {},
   "outputs": [
    {
     "name": "stdout",
     "output_type": "stream",
     "text": [
      "104582\n",
      "104582\n"
     ]
    }
   ],
   "source": [
    "print(len(postId))\n",
    "print(len(posts))"
   ]
  },
  {
   "cell_type": "code",
   "execution_count": 5,
   "metadata": {},
   "outputs": [],
   "source": [
    "for id in postId:\n",
    "    try:\n",
    "        a = posts[id]\n",
    "    except Exception as e:\n",
    "        print(e)"
   ]
  },
  {
   "cell_type": "code",
   "execution_count": null,
   "metadata": {},
   "outputs": [],
   "source": [
    "import json\n",
    "with open('./all/posts.json', 'w') as f:\n",
    "    json.dump(posts, f)"
   ]
  }
 ],
 "metadata": {
  "interpreter": {
   "hash": "53024653744be1c7fdb50f623c21bc7cbc066eeadd60abd98245bb69a9f2fbe7"
  },
  "kernelspec": {
   "display_name": "Python 3.8.12 ('xsr')",
   "language": "python",
   "name": "python3"
  },
  "language_info": {
   "codemirror_mode": {
    "name": "ipython",
    "version": 3
   },
   "file_extension": ".py",
   "mimetype": "text/x-python",
   "name": "python",
   "nbconvert_exporter": "python",
   "pygments_lexer": "ipython3",
   "version": "3.10.12"
  },
  "orig_nbformat": 4
 },
 "nbformat": 4,
 "nbformat_minor": 2
}
