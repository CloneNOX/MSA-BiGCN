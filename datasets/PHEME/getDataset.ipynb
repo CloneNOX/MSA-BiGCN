{
 "cells": [
  {
   "cell_type": "code",
   "execution_count": 1,
   "metadata": {},
   "outputs": [
    {
     "name": "stderr",
     "output_type": "stream",
     "text": [
      "non-rumor charliehebdo: 100%|██████████| 1622/1622 [08:25<00:00,  3.21it/s]\n",
      "rumor charliehebdo: 100%|██████████| 459/459 [02:06<00:00,  3.64it/s]\n",
      "non-rumor ebola-essien: 0it [00:00, ?it/s]\n",
      "rumor ebola-essien: 100%|██████████| 15/15 [00:03<00:00,  3.76it/s]\n",
      "non-rumor ferguson: 100%|██████████| 860/860 [04:51<00:00,  2.95it/s]\n",
      "rumor ferguson: 100%|██████████| 285/285 [01:46<00:00,  2.67it/s]\n",
      "non-rumor germanwings-crash: 100%|██████████| 231/231 [00:35<00:00,  6.47it/s]\n",
      "rumor germanwings-crash: 100%|██████████| 239/239 [00:45<00:00,  5.25it/s]\n",
      "non-rumor gurlitt: 100%|██████████| 78/78 [00:02<00:00, 27.62it/s]\n",
      "rumor gurlitt: 100%|██████████| 62/62 [00:03<00:00, 20.49it/s]\n",
      "non-rumor ottawashooting: 100%|██████████| 420/420 [01:37<00:00,  4.30it/s]\n",
      "rumor ottawashooting: 100%|██████████| 471/471 [01:54<00:00,  4.13it/s]\n",
      "non-rumor prince-toronto: 100%|██████████| 4/4 [00:00<00:00, 21.51it/s]\n",
      "rumor prince-toronto: 100%|██████████| 230/230 [00:20<00:00, 11.01it/s]\n",
      "non-rumor putinmissing: 100%|██████████| 113/113 [00:07<00:00, 15.04it/s]\n",
      "rumor putinmissing: 100%|██████████| 127/127 [00:11<00:00, 11.13it/s]\n",
      "non-rumor sydneysiege: 100%|██████████| 699/699 [04:12<00:00,  2.76it/s]\n",
      "rumor sydneysiege: 100%|██████████| 523/523 [01:36<00:00,  5.43it/s]\n"
     ]
    }
   ],
   "source": [
    "from process import ProcessRNRDataset\n",
    "threadId, postId, threadTag, structures, posts = ProcessRNRDataset()"
   ]
  },
  {
   "cell_type": "code",
   "execution_count": 2,
   "metadata": {},
   "outputs": [],
   "source": [
    "with open('./thread_id.txt', 'w') as f:\n",
    "    for id in threadId:\n",
    "        f.write(id + '\\n')\n"
   ]
  },
  {
   "cell_type": "code",
   "execution_count": 5,
   "metadata": {},
   "outputs": [],
   "source": [
    "with open('./post_id.txt', 'w') as f:\n",
    "    for id in postId:\n",
    "        f.write(id + '\\n')\n",
    "        "
   ]
  },
  {
   "cell_type": "code",
   "execution_count": 2,
   "metadata": {},
   "outputs": [],
   "source": [
    "with open('./thread_label.txt', 'w') as f:\n",
    "    for id in threadId:\n",
    "        f.write(str(threadTag[id]) + '\\n')"
   ]
  },
  {
   "cell_type": "code",
   "execution_count": 11,
   "metadata": {},
   "outputs": [],
   "source": [
    "import json\n",
    "with open('./structures.json', 'w') as f:\n",
    "    json.dump(structures, f)"
   ]
  },
  {
   "cell_type": "code",
   "execution_count": null,
   "metadata": {},
   "outputs": [],
   "source": [
    "import json\n",
    "with open('./posts.json', 'w') as f:\n",
    "    json.dump(posts, f)"
   ]
  },
  {
   "cell_type": "code",
   "execution_count": null,
   "metadata": {},
   "outputs": [],
   "source": [
    "import json\n",
    "from process import label2Index\n",
    "with open('./category.json', 'w') as f:\n",
    "    json.dump(label2Index, f)"
   ]
  }
 ],
 "metadata": {
  "interpreter": {
   "hash": "53024653744be1c7fdb50f623c21bc7cbc066eeadd60abd98245bb69a9f2fbe7"
  },
  "kernelspec": {
   "display_name": "Python 3.8.12 ('xsr')",
   "language": "python",
   "name": "python3"
  },
  "language_info": {
   "codemirror_mode": {
    "name": "ipython",
    "version": 3
   },
   "file_extension": ".py",
   "mimetype": "text/x-python",
   "name": "python",
   "nbconvert_exporter": "python",
   "pygments_lexer": "ipython3",
   "version": "3.10.11"
  },
  "orig_nbformat": 4
 },
 "nbformat": 4,
 "nbformat_minor": 2
}
