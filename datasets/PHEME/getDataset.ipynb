{
 "cells": [
  {
   "cell_type": "code",
   "execution_count": 1,
   "metadata": {},
   "outputs": [
    {
     "name": "stderr",
     "output_type": "stream",
     "text": [
      "non-rumor charliehebdo: 100%|██████████| 1622/1622 [08:25<00:00,  3.21it/s]\n",
      "rumor charliehebdo: 100%|██████████| 459/459 [02:06<00:00,  3.64it/s]\n",
      "non-rumor ebola-essien: 0it [00:00, ?it/s]\n",
      "rumor ebola-essien: 100%|██████████| 15/15 [00:03<00:00,  3.76it/s]\n",
      "non-rumor ferguson: 100%|██████████| 860/860 [04:51<00:00,  2.95it/s]\n",
      "rumor ferguson: 100%|██████████| 285/285 [01:46<00:00,  2.67it/s]\n",
      "non-rumor germanwings-crash: 100%|██████████| 231/231 [00:35<00:00,  6.47it/s]\n",
      "rumor germanwings-crash: 100%|██████████| 239/239 [00:45<00:00,  5.25it/s]\n",
      "non-rumor gurlitt: 100%|██████████| 78/78 [00:02<00:00, 27.62it/s]\n",
      "rumor gurlitt: 100%|██████████| 62/62 [00:03<00:00, 20.49it/s]\n",
      "non-rumor ottawashooting: 100%|██████████| 420/420 [01:37<00:00,  4.30it/s]\n",
      "rumor ottawashooting: 100%|██████████| 471/471 [01:54<00:00,  4.13it/s]\n",
      "non-rumor prince-toronto: 100%|██████████| 4/4 [00:00<00:00, 21.51it/s]\n",
      "rumor prince-toronto: 100%|██████████| 230/230 [00:20<00:00, 11.01it/s]\n",
      "non-rumor putinmissing: 100%|██████████| 113/113 [00:07<00:00, 15.04it/s]\n",
      "rumor putinmissing: 100%|██████████| 127/127 [00:11<00:00, 11.13it/s]\n",
      "non-rumor sydneysiege: 100%|██████████| 699/699 [04:12<00:00,  2.76it/s]\n",
      "rumor sydneysiege: 100%|██████████| 523/523 [01:36<00:00,  5.43it/s]\n"
     ]
    }
   ],
   "source": [
    "from process import ProcessRNRDataset\n",
    "threadId, postId, threadTag, structures, posts = ProcessRNRDataset()"
   ]
  },
  {
   "cell_type": "code",
   "execution_count": 2,
   "metadata": {},
   "outputs": [],
   "source": [
    "with open('./all/thread_id.txt', 'w') as f:\n",
    "    for id in threadId:\n",
    "        f.write(id + '\\n')\n"
   ]
  },
  {
   "cell_type": "code",
   "execution_count": 5,
   "metadata": {},
   "outputs": [],
   "source": [
    "with open('./all/post_id.txt', 'w') as f:\n",
    "    for id in postId:\n",
    "        f.write(id + '\\n')\n",
    "        "
   ]
  },
  {
   "cell_type": "code",
   "execution_count": 2,
   "metadata": {},
   "outputs": [],
   "source": [
    "with open('./all/thread_label.txt', 'w') as f:\n",
    "    for id in threadId:\n",
    "        f.write(str(threadTag[id]) + '\\n')"
   ]
  },
  {
   "cell_type": "code",
   "execution_count": 11,
   "metadata": {},
   "outputs": [],
   "source": [
    "import json\n",
    "with open('./all/structures.json', 'w') as f:\n",
    "    json.dump(structures, f)"
   ]
  },
  {
   "cell_type": "code",
   "execution_count": null,
   "metadata": {},
   "outputs": [],
   "source": [
    "import json\n",
    "with open('./all/posts.json', 'w') as f:\n",
    "    json.dump(posts, f)"
   ]
  },
  {
   "cell_type": "code",
   "execution_count": null,
   "metadata": {},
   "outputs": [],
   "source": [
    "import json\n",
    "from process import label2Index\n",
    "with open('./category.json', 'w') as f:\n",
    "    json.dump(label2Index, f)"
   ]
  },
  {
   "cell_type": "code",
   "execution_count": 12,
   "metadata": {},
   "outputs": [
    {
     "name": "stderr",
     "output_type": "stream",
     "text": [
      "rumor charliehebdo:   0%|          | 0/459 [00:00<?, ?it/s]"
     ]
    },
    {
     "name": "stderr",
     "output_type": "stream",
     "text": [
      "rumor charliehebdo: 100%|██████████| 459/459 [02:03<00:00,  3.70it/s]\n",
      "rumor ebola-essien: 100%|██████████| 15/15 [00:03<00:00,  3.87it/s]\n",
      "rumor ferguson: 100%|██████████| 285/285 [01:47<00:00,  2.64it/s]\n",
      "rumor germanwings-crash: 100%|██████████| 239/239 [00:42<00:00,  5.65it/s]\n",
      "rumor gurlitt: 100%|██████████| 62/62 [00:01<00:00, 31.43it/s]\n",
      "rumor ottawashooting: 100%|██████████| 471/471 [01:47<00:00,  4.38it/s]\n",
      "rumor prince-toronto: 100%|██████████| 230/230 [00:16<00:00, 13.54it/s]\n",
      "rumor putinmissing: 100%|██████████| 127/127 [00:08<00:00, 14.55it/s]\n",
      "rumor sydneysiege: 100%|██████████| 523/523 [02:25<00:00,  3.59it/s]\n"
     ]
    }
   ],
   "source": [
    "import json\n",
    "import os\n",
    "from tqdm import tqdm\n",
    "from process import strTime2Timestamp\n",
    "DATA_PATH = '../../../rumorDataset/all-rnr-annotated-threads/'\n",
    "EVENT_NAME = [\n",
    "    'charliehebdo', \n",
    "    'ebola-essien', \n",
    "    'ferguson', \n",
    "    'germanwings-crash', \n",
    "    'ottawashooting', \n",
    "    'prince-toronto', \n",
    "    'putinmissing', \n",
    "    'sydneysiege'\n",
    "]\n",
    "\n",
    "posts = {}\n",
    "eventName = os.listdir(DATA_PATH)\n",
    "for event in eventName:\n",
    "    if '.' in event: continue\n",
    "    ids = os.listdir(os.path.join(DATA_PATH, event, 'rumours'))\n",
    "    for id in tqdm(ids, desc='rumor {}'.format(event)):\n",
    "        if '.' in id: continue\n",
    "        path = os.path.join(DATA_PATH, event, 'rumours', str(id))\n",
    "\n",
    "        with open(os.path.join(path, 'source-tweets', str(id) + '.json'), 'r') as f:\n",
    "            content = json.loads(f.read())\n",
    "        post = {\n",
    "            'time': strTime2Timestamp(content['created_at']),\n",
    "            'text': content['text']\n",
    "        }\n",
    "        posts[id] = post\n",
    "        pids = os.listdir(os.path.join(path, 'reactions'))\n",
    "        for pfname in pids:\n",
    "            if '._' not in pfname and '.json' in pfname:\n",
    "                pid = pfname[0:-5]\n",
    "                with open(os.path.join(path, 'reactions', str(pfname)), 'r') as f:\n",
    "                    content = json.loads(f.read())\n",
    "                post = {\n",
    "                    'time': strTime2Timestamp(content['created_at']),\n",
    "                    'text': content['text']\n",
    "                }\n",
    "                posts[pid] = post"
   ]
  },
  {
   "cell_type": "code",
   "execution_count": 15,
   "metadata": {},
   "outputs": [
    {
     "data": {
      "text/plain": [
       "104582"
      ]
     },
     "execution_count": 15,
     "metadata": {},
     "output_type": "execute_result"
    }
   ],
   "source": [
    "len(nrposts)"
   ]
  },
  {
   "cell_type": "code",
   "execution_count": 16,
   "metadata": {},
   "outputs": [],
   "source": [
    "import json\n",
    "with open('./all/posts.json', 'w') as f:\n",
    "    json.dump(posts, f)"
   ]
  }
 ],
 "metadata": {
  "interpreter": {
   "hash": "53024653744be1c7fdb50f623c21bc7cbc066eeadd60abd98245bb69a9f2fbe7"
  },
  "kernelspec": {
   "display_name": "Python 3.8.12 ('xsr')",
   "language": "python",
   "name": "python3"
  },
  "language_info": {
   "codemirror_mode": {
    "name": "ipython",
    "version": 3
   },
   "file_extension": ".py",
   "mimetype": "text/x-python",
   "name": "python",
   "nbconvert_exporter": "python",
   "pygments_lexer": "ipython3",
   "version": "3.10.11"
  },
  "orig_nbformat": 4
 },
 "nbformat": 4,
 "nbformat_minor": 2
}
