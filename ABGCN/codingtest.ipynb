{
 "cells": [
  {
   "cell_type": "code",
   "execution_count": 3,
   "metadata": {},
   "outputs": [],
   "source": [
    "import torch\n",
    "from torch_geometric.data import Data\n",
    "from torch.utils.data import Dataset\n",
    "import json\n",
    "from gensim.models.keyedvectors import KeyedVectors\n",
    "import numpy as np\n",
    "from utils import flattenStructure"
   ]
  },
  {
   "cell_type": "code",
   "execution_count": 4,
   "metadata": {},
   "outputs": [],
   "source": [
    "from data import *\n",
    "dataset = semeval2017Dataset(dataPath='../dataset/semeval2017-task8/', \n",
    "                             type='train',\n",
    "                             w2vPath='../dataset/glove/',\n",
    "                             w2vDim=25)"
   ]
  },
  {
   "cell_type": "code",
   "execution_count": 5,
   "metadata": {},
   "outputs": [],
   "source": [
    "from torch.utils.data import DataLoader\n",
    "loader = DataLoader(dataset, shuffle=True)"
   ]
  },
  {
   "cell_type": "code",
   "execution_count": 7,
   "metadata": {},
   "outputs": [],
   "source": [
    "from ABGCN import *\n",
    "from torch import optim\n",
    "model = ABGCN(w2vDim = 25,\n",
    "              s2vDim = 128,\n",
    "              gcnHiddenDim = 128,\n",
    "              rumorFeatureDim = 128,\n",
    "              numRumorTag = 3,\n",
    "              numStanceTag = 4,\n",
    "              s2vMethon = 'l')\n",
    "device = torch.device('cuda')\n",
    "model = model.set_device(device)\n",
    "loss_func = torch.nn.CrossEntropyLoss(reduction='mean').to(device)\n",
    "optimizer = optim.Adagrad(model.parameters(), lr=1e-3, weight_decay=1e-2)\n",
    "        "
   ]
  },
  {
   "cell_type": "code",
   "execution_count": 10,
   "metadata": {},
   "outputs": [
    {
     "name": "stderr",
     "output_type": "stream",
     "text": [
      "                                                                                                    \r"
     ]
    }
   ],
   "source": [
    "from tqdm import tqdm\n",
    "\n",
    "totalLoss = 0.\n",
    "curNum = 1\n",
    "testdata = dataset[0]\n",
    "for data in tqdm(iter(loader), \n",
    "                 desc=\"[epoch {:d}, rumor]\".format(1),\n",
    "                 leave=False, \n",
    "                 ncols=100):\n",
    "    # 抹除dataloader生成batch时对数据的升维\n",
    "    data['threadId'] = data['threadId'][0]\n",
    "    data['threadIndex'] = data['threadIndex'][0]\n",
    "    for i in range(len(data['nodeFeature'])):\n",
    "        data['nodeFeature'][i] = data['nodeFeature'][i].view((data['nodeFeature'][i].shape[1], data['nodeFeature'][i].shape[2]))\n",
    "    data['edgeIndexTD'] = data['edgeIndexTD'].view((data['edgeIndexTD'].shape[1], data['edgeIndexTD'].shape[2]))\n",
    "    data['edgeIndexBU'] = data['edgeIndexBU'].view((data['edgeIndexBU'].shape[1], data['edgeIndexBU'].shape[2]))\n",
    "    data['rumorTag'] = data['rumorTag'].view((data['rumorTag'].shape[1]))\n",
    "    data['stanveTag'] = data['stanveTag'].view((data['stanveTag'].shape[1]))\n",
    "    rumorTag = data['rumorTag'].to(device)\n",
    "\n",
    "    optimizer.zero_grad()\n",
    "    p = model.forwardRumor(data)\n",
    "    loss = loss_func(p, rumorTag)\n",
    "    totalLoss += loss\n",
    "    loss.backward()\n",
    "    optimizer.step()\n",
    "    curNum += 1\n"
   ]
  },
  {
   "cell_type": "code",
   "execution_count": null,
   "metadata": {},
   "outputs": [],
   "source": []
  }
 ],
 "metadata": {
  "interpreter": {
   "hash": "53024653744be1c7fdb50f623c21bc7cbc066eeadd60abd98245bb69a9f2fbe7"
  },
  "kernelspec": {
   "display_name": "Python 3.8.12 ('xsr')",
   "language": "python",
   "name": "python3"
  },
  "language_info": {
   "codemirror_mode": {
    "name": "ipython",
    "version": 3
   },
   "file_extension": ".py",
   "mimetype": "text/x-python",
   "name": "python",
   "nbconvert_exporter": "python",
   "pygments_lexer": "ipython3",
   "version": "3.8.12"
  },
  "orig_nbformat": 4
 },
 "nbformat": 4,
 "nbformat_minor": 2
}
