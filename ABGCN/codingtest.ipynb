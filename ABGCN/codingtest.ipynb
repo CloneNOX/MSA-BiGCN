{
 "cells": [
  {
   "cell_type": "code",
   "execution_count": 1,
   "metadata": {},
   "outputs": [],
   "source": [
    "import torch\n",
    "from torch_geometric.data import Data\n",
    "from torch.utils.data import Dataset\n",
    "import json\n",
    "from gensim.models.keyedvectors import KeyedVectors\n",
    "import numpy as np"
   ]
  },
  {
   "cell_type": "code",
   "execution_count": 2,
   "metadata": {},
   "outputs": [],
   "source": [
    "from data import *\n",
    "dataset = semeval2017Dataset(\n",
    "    dataPath='../dataset/semeval2017-task8/', \n",
    "    type='train'\n",
    ")\n",
    "glove25d = KeyedVectors.load_word2vec_format(\n",
    "    '../dataset/glove/glove.twitter.27B.25d.gensim.txt',\n",
    "    binary=False\n",
    ")"
   ]
  },
  {
   "cell_type": "code",
   "execution_count": 3,
   "metadata": {},
   "outputs": [],
   "source": [
    "from torch.utils.data import DataLoader\n",
    "from data import batchWord2Vec\n",
    "loader = DataLoader(\n",
    "    dataset,\n",
    "    shuffle = True,\n",
    "    collate_fn = lambda x: batchWord2Vec(x, glove25d)\n",
    ")"
   ]
  },
  {
   "cell_type": "code",
   "execution_count": 7,
   "metadata": {},
   "outputs": [
    {
     "name": "stdout",
     "output_type": "stream",
     "text": [
      "torch.Size([16])\n",
      "torch.Size([16, 30, 25])\n"
     ]
    }
   ],
   "source": [
    "for thread in loader:\n",
    "    print(thread['stanceTag'].shape)\n",
    "    print(thread['nodeFeature'].shape)\n",
    "    break"
   ]
  },
  {
   "cell_type": "code",
   "execution_count": null,
   "metadata": {},
   "outputs": [],
   "source": [
    "from ABGCN import *"
   ]
  },
  {
   "cell_type": "code",
   "execution_count": 5,
   "metadata": {},
   "outputs": [],
   "source": [
    "# from ABGCN import *\n",
    "from torch import optim\n",
    "model = ABGCN(\n",
    "    w2vDim = 25,\n",
    "    s2vDim = 64, # 使用的句嵌入的维度\n",
    "    gcnHiddenDim = 64, # GCN隐藏层的维度（GCNconv1的输出维度）\n",
    "    rumorFeatureDim = 64, # GCN输出层的维度\n",
    "    numRumorTag = 3, # 谣言标签种类数\n",
    "    numStanceTag = 4, # 立场标签种类数\n",
    "    s2vMethon = 'a', # 获取据嵌入的方法（l:lstm; a:attention）\n",
    ")\n",
    "device = torch.device('cuda')\n",
    "model = model.set_device(device)\n",
    "loss_func = torch.nn.CrossEntropyLoss(reduction='mean').to(device)\n",
    "optimizer = optim.SGD(model.parameters(), lr=1e-3, weight_decay=1e-2, momentum=0.9)\n",
    "        "
   ]
  },
  {
   "cell_type": "code",
   "execution_count": 51,
   "metadata": {},
   "outputs": [
    {
     "name": "stderr",
     "output_type": "stream",
     "text": [
      "                                                                                                    \r"
     ]
    }
   ],
   "source": [
    "from tqdm import tqdm\n",
    "from torch.nn.functional import softmax\n",
    "\n",
    "totalLoss = 0.\n",
    "testdata = dataset[0]\n",
    "for data in tqdm(iter(loader), \n",
    "                 desc=\"[epoch {:d}, rumor]\".format(1),\n",
    "                 leave=False, \n",
    "                 ncols=100):\n",
    "    # 抹除dataloader生成batch时对数据的升维\n",
    "    data['threadId'] = data['threadId'][0]\n",
    "    data['threadIndex'] = data['threadIndex'][0]\n",
    "    for i in range(len(data['nodeFeature'])):\n",
    "        data['nodeFeature'][i] = data['nodeFeature'][i].view((data['nodeFeature'][i].shape[1], data['nodeFeature'][i].shape[2]))\n",
    "    data['edgeIndexTD'] = data['edgeIndexTD'].view((data['edgeIndexTD'].shape[1], data['edgeIndexTD'].shape[2]))\n",
    "    data['edgeIndexBU'] = data['edgeIndexBU'].view((data['edgeIndexBU'].shape[1], data['edgeIndexBU'].shape[2]))\n",
    "    data['rumorTag'] = data['rumorTag'].view((data['rumorTag'].shape[1]))\n",
    "    data['stanceTag'] = data['stanceTag'].view((data['stanceTag'].shape[1]))\n",
    "    rumorTag = data['rumorTag'].to(device)\n",
    "\n",
    "    optimizer.zero_grad()\n",
    "    p = model.forwardRumor(data)\n",
    "    loss = loss_func(p, rumorTag)\n",
    "    totalLoss += loss\n",
    "    loss.backward()\n",
    "    optimizer.step()\n",
    "\n",
    "    p = softmax(p, dim=1)\n"
   ]
  },
  {
   "cell_type": "code",
   "execution_count": 52,
   "metadata": {},
   "outputs": [
    {
     "name": "stdout",
     "output_type": "stream",
     "text": [
      "tensor(280.0627, device='cuda:0', grad_fn=<AddBackward0>)\n"
     ]
    }
   ],
   "source": [
    "print(totalLoss)"
   ]
  },
  {
   "cell_type": "code",
   "execution_count": 48,
   "metadata": {},
   "outputs": [
    {
     "name": "stdout",
     "output_type": "stream",
     "text": [
      "tensor(0.9175, device='cuda:0', grad_fn=<NllLossBackward0>)\n"
     ]
    }
   ],
   "source": [
    "print(loss)"
   ]
  },
  {
   "cell_type": "code",
   "execution_count": null,
   "metadata": {},
   "outputs": [],
   "source": []
  }
 ],
 "metadata": {
  "interpreter": {
   "hash": "53024653744be1c7fdb50f623c21bc7cbc066eeadd60abd98245bb69a9f2fbe7"
  },
  "kernelspec": {
   "display_name": "Python 3.8.12 ('xsr')",
   "language": "python",
   "name": "python3"
  },
  "language_info": {
   "codemirror_mode": {
    "name": "ipython",
    "version": 3
   },
   "file_extension": ".py",
   "mimetype": "text/x-python",
   "name": "python",
   "nbconvert_exporter": "python",
   "pygments_lexer": "ipython3",
   "version": "3.8.12"
  },
  "orig_nbformat": 4
 },
 "nbformat": 4,
 "nbformat_minor": 2
}
