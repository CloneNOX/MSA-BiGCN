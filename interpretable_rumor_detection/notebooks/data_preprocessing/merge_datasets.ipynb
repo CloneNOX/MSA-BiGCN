{
 "cells": [
  {
   "cell_type": "markdown",
   "metadata": {},
   "source": [
    "## Import the necessary libraries"
   ]
  },
  {
   "cell_type": "code",
   "execution_count": 1,
   "metadata": {},
   "outputs": [],
   "source": [
    "import os\n",
    "import json\n",
    "from pprint import pprint\n",
    "from tqdm import tqdm_notebook as tqdm\n",
    "import re\n",
    "import spacy\n",
    "import en_core_web_sm\n",
    "nlp = en_core_web_sm.load(disable = [\"parser\", \"tagger\", \"ner\"])\n",
    "\n",
    "import matplotlib.mlab as mlab\n",
    "import matplotlib.pyplot as plt\n",
    "import statistics"
   ]
  },
  {
   "cell_type": "markdown",
   "metadata": {},
   "source": [
    "## Helper Functions"
   ]
  },
  {
   "cell_type": "markdown",
   "metadata": {},
   "source": [
    "### mapping"
   ]
  },
  {
   "cell_type": "code",
   "execution_count": 12,
   "metadata": {
    "collapsed": true
   },
   "outputs": [],
   "source": [
    "# Mapping for the labels\n",
    "mapping = {\"false\" : 0,\n",
    "           \"true\" : 1, \n",
    "           \"unverified\" : 2, \n",
    "           \"non-rumor\" : 3}"
   ]
  },
  {
   "cell_type": "markdown",
   "metadata": {},
   "source": [
    "### Write Data"
   ]
  },
  {
   "cell_type": "code",
   "execution_count": 13,
   "metadata": {
    "collapsed": true
   },
   "outputs": [],
   "source": [
    "def write_jsonl(data, path):\n",
    "    \n",
    "    \"\"\" Takes in a list of json records and a path. Writes the data to a .jsonl file\"\"\"\n",
    "    \n",
    "    with open(path, \"w\", encoding = \"UTF-8\") as f:\n",
    "        \n",
    "        for item in data:\n",
    "            json.dump(item, f)\n",
    "            f.write(\"\\n\")"
   ]
  },
  {
   "cell_type": "markdown",
   "metadata": {},
   "source": [
    "### Clean line"
   ]
  },
  {
   "cell_type": "code",
   "execution_count": 15,
   "metadata": {
    "collapsed": true
   },
   "outputs": [],
   "source": [
    "def clean_line(text):\n",
    "    \n",
    "    \"\"\" Cleans a list in a string format \"\"\"\n",
    "    \n",
    "    text = text.replace(\"[\", \"\")\n",
    "    text = text.replace(\"]\", \"\")\n",
    "    text = text.replace(\"'\", \"\")\n",
    "    text = text.replace(\"\\n\", \"\")\n",
    "    text = text.strip()\n",
    "    \n",
    "    return text"
   ]
  },
  {
   "cell_type": "markdown",
   "metadata": {},
   "source": [
    "### Read source tweets"
   ]
  },
  {
   "cell_type": "code",
   "execution_count": 18,
   "metadata": {
    "collapsed": true
   },
   "outputs": [],
   "source": [
    "def read_source_tweets(path):\n",
    "    \n",
    "    \"\"\" Read in data based on specified data path and return a dictionary with the id of the tweet as the key and content as the value \"\"\"\n",
    "    \n",
    "    data = {}\n",
    "    \n",
    "    for line in open(path, \"r\", encoding = \"UTF-8\"):\n",
    "        \n",
    "        line = json.loads(line)\n",
    "        tweet_id = line[\"id_str\"]\n",
    "        tweet = line[\"text\"]\n",
    "        \n",
    "        data[tweet_id] = tweet\n",
    "        \n",
    "    return data"
   ]
  },
  {
   "cell_type": "markdown",
   "metadata": {},
   "source": [
    "### Read labels"
   ]
  },
  {
   "cell_type": "code",
   "execution_count": 19,
   "metadata": {
    "collapsed": true
   },
   "outputs": [],
   "source": [
    "def read_labels(path):\n",
    "    \n",
    "    \"\"\" Read in data based on specified data path and return a dictionary with the id of the tweet as the key and content as the value \"\"\"\n",
    "    \n",
    "    labels_dict = {}\n",
    "    \n",
    "    for line in open(path, \"r\", encoding = \"UTF-8\"):\n",
    "        \n",
    "        line_array = line.split(\":\")\n",
    "        \n",
    "        tweet_id = line_array[1].strip()\n",
    "        label = mapping[line_array[0].strip()]\n",
    "        \n",
    "        labels_dict[tweet_id] = label\n",
    "    \n",
    "    return labels_dict"
   ]
  },
  {
   "cell_type": "markdown",
   "metadata": {},
   "source": [
    "### Bin each record into different time bins"
   ]
  },
  {
   "cell_type": "code",
   "execution_count": 20,
   "metadata": {
    "collapsed": true
   },
   "outputs": [],
   "source": [
    "def map_time_bins(time, size, interval):\n",
    "    \n",
    "    \"\"\" Takes in the time delay and bin it according to the number of defined time bins (size) and interval for each bin (interval) \"\"\"\n",
    "    \n",
    "    # Max is size -1 (First index starts from 0) \n",
    "    bin_num = min(int(time // float(interval)), size - 1)\n",
    "    bin_num = max(0, bin_num)\n",
    "    \n",
    "    return bin_num"
   ]
  },
  {
   "cell_type": "markdown",
   "metadata": {},
   "source": [
    "### Read data"
   ]
  },
  {
   "cell_type": "code",
   "execution_count": 8,
   "metadata": {
    "collapsed": true
   },
   "outputs": [],
   "source": [
    "def read_data(path):\n",
    "    \n",
    "    data_child_array = []\n",
    "    time_array = []\n",
    "    \n",
    "    for line in open(path, \"r\", encoding = \"UTF-8\"):\n",
    "        \n",
    "        line = clean_line(line)\n",
    "        line_array = line.split(\"->\")\n",
    "        \n",
    "        parent = line_array[0]\n",
    "        parent_array = parent.split(\",\")\n",
    "        parent_user_id = parent_array[0]\n",
    "        parent_tweet_id = parent_array[1] \n",
    "        \n",
    "        child = line_array[1]\n",
    "        child_array = child.split(\",\")\n",
    "        child_user_id = child_array[0]\n",
    "        child_tweet_id = child_array[1] \n",
    "        child_time_delay = str(float(child_array[2]))\n",
    "        time_array.append(float(child_time_delay))\n",
    "        \n",
    "        if parent_user_id == \"ROOT\":\n",
    "            \n",
    "            source_claim = {\"user_id\" : child_user_id, \"tweet_id\" : child_tweet_id, \"time_delay\" : child_time_delay}\n",
    "        \n",
    "        else:\n",
    "            \n",
    "            data_child_array.append({\"user_id\" : child_user_id, \"tweet_id\" : child_tweet_id, \"time_delay\" : child_time_delay})\n",
    "        \n",
    "    return data_child_array, time_array, source_claim\n"
   ]
  },
  {
   "cell_type": "markdown",
   "metadata": {},
   "source": [
    "### Processing the tweets"
   ]
  },
  {
   "cell_type": "code",
   "execution_count": 21,
   "metadata": {
    "collapsed": true
   },
   "outputs": [],
   "source": [
    "def process_tweets(id_, data_child_array, source_claim, source_tweets, labels_dict):\n",
    "    \n",
    "    user_id_array = []\n",
    "    tweet_id_array = []\n",
    "    tweet_array = []\n",
    "    time_delay_array = []\n",
    "    \n",
    "    missing_count = 0  \n",
    "    \n",
    "    label = labels_dict[id_]\n",
    "    \n",
    "    # Getting the tweet of the source claim \n",
    "    try:\n",
    "        source_tweet_id = str(source_claim[\"tweet_id\"]).strip()\n",
    "        source_claim_tweet = source_tweets[source_tweet_id]\n",
    "        source_claim[\"tweet\"] = source_claim_tweet\n",
    "    \n",
    "    except:\n",
    "        \n",
    "        return None, None, None, None, None, None, None\n",
    "    \n",
    "    for item in data_child_array:\n",
    "        \n",
    "        try:\n",
    "\n",
    "            user_id = item[\"user_id\"]\n",
    "            \n",
    "            tweet_id = str(item[\"tweet_id\"]).strip()\n",
    "            time_delay = float(item[\"time_delay\"].strip())\n",
    "            \n",
    "            tweet = source_tweets[tweet_id]\n",
    "\n",
    "            user_id_array.append(user_id)\n",
    "            tweet_id_array.append(tweet_id)\n",
    "            tweet_array.append(tweet)\n",
    "            time_delay_array.append(time_delay)\n",
    "        \n",
    "        except:\n",
    "            missing_count += 1\n",
    "            continue\n",
    "            \n",
    "    assert len(user_id_array) == len(tweet_id_array), print(\"Length of arrays DO NOT match\")\n",
    "    assert len(user_id_array) == len(tweet_array), print(\"Length of arrays DO NOT match\")\n",
    "    assert len(user_id_array) == len(time_delay_array), print(\"Length of arrays DO NOT match\")\n",
    "    \n",
    "    return label, source_claim, user_id_array, tweet_id_array, tweet_array, time_delay_array, missing_count\n",
    "    "
   ]
  },
  {
   "cell_type": "markdown",
   "metadata": {},
   "source": [
    "## Main"
   ]
  },
  {
   "cell_type": "code",
   "execution_count": null,
   "metadata": {},
   "outputs": [],
   "source": [
    "if __name__ == \"__main__\":\n",
    "    \n",
    "    year_data = {}\n",
    "    \n",
    "    # To process data for each year (Twitter15, Twitter16)    \n",
    "    for YEAR in [15, 16]:\n",
    "        \n",
    "        missing_claims_count = 0\n",
    "        \n",
    "        negative_delay_records = []\n",
    "        \n",
    "        print(\"Processing year '{} now\".format(YEAR))\n",
    "\n",
    "        source_tweets_path = \"../data/controversy/raw_data/tweet_details.json\"\n",
    "        tweets_label_path = \"../data/controversy/raw_data/twitter{}/label.txt\".format(YEAR)\n",
    "        raw_tree_folder = \"../data/controversy/raw_data/twitter{}/tree\".format(YEAR)\n",
    "\n",
    "        output_file_path = \"../data/controversy/processed_data/linear_structure/twitter{}/full_data/compiled_data.json\".format(YEAR)\n",
    "\n",
    "        labels = read_labels(tweets_label_path)\n",
    "        source_tweets = read_source_tweets(source_tweets_path)\n",
    "        \n",
    "        compiled_data = []\n",
    "        num_tweets = []\n",
    "        delay_array = []\n",
    "\n",
    "        for file in tqdm(os.listdir(raw_tree_folder)):\n",
    "\n",
    "            id_ = file.replace(\".txt\", \"\")\n",
    "            file = os.path.join(raw_tree_folder, file)\n",
    "            \n",
    "            data_child_array, time_array, source_claim = read_data(file)\n",
    "\n",
    "            label, source_claim, user_id_array, tweet_id_array, tweet_array, time_delay_array, missing_count = process_tweets(id_, data_child_array, source_claim, source_tweets, labels)\n",
    "            \n",
    "            if label is None:\n",
    "                missing_claims_count += 1\n",
    "                continue \n",
    "            \n",
    "            if len(tweet_array) != 0 :\n",
    "                \n",
    "                compiled_data.append({\"id_\" : id_,\n",
    "                                      \"claim\" : source_claim,\n",
    "                                      \"label\" : label,\n",
    "                                      \"tweet_ids\" : tweet_id_array,\n",
    "                                      \"tweets\" : tweet_array, \n",
    "                                      \"time_delay\" : time_delay_array})\n",
    "\n",
    "                num_tweets.append(len(tweet_array))\n",
    "                delay_array.extend(time_delay_array)\n",
    "        \n",
    "        print(\"There are {} missing claims in twitter {}\".format(missing_claims_count, YEAR))\n",
    "        print(\"There are {} claims in twitter {}\".format(len(compiled_data), YEAR))\n",
    "        write_jsonl(compiled_data, output_file_path)\n",
    "        "
   ]
  }
 ],
 "metadata": {
  "kernelspec": {
   "display_name": "Python 3",
   "language": "python",
   "name": "python3"
  },
  "language_info": {
   "codemirror_mode": {
    "name": "ipython",
    "version": 3
   },
   "file_extension": ".py",
   "mimetype": "text/x-python",
   "name": "python",
   "nbconvert_exporter": "python",
   "pygments_lexer": "ipython3",
   "version": "3.6.3"
  },
  "toc": {
   "nav_menu": {},
   "number_sections": true,
   "sideBar": true,
   "skip_h1_title": false,
   "toc_cell": false,
   "toc_position": {},
   "toc_section_display": "block",
   "toc_window_display": false
  }
 },
 "nbformat": 4,
 "nbformat_minor": 2
}
