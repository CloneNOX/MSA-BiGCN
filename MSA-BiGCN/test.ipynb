{
 "cells": [
  {
   "cell_type": "code",
   "execution_count": 2,
   "metadata": {},
   "outputs": [
    {
     "name": "stderr",
     "output_type": "stream",
     "text": [
      "Some weights of the model checkpoint at ../model/bert-base-cased were not used when initializing BertModel: ['cls.seq_relationship.weight', 'cls.seq_relationship.bias', 'cls.predictions.bias', 'cls.predictions.transform.dense.weight', 'cls.predictions.transform.LayerNorm.weight', 'cls.predictions.transform.dense.bias', 'cls.predictions.transform.LayerNorm.bias', 'cls.predictions.decoder.weight']\n",
      "- This IS expected if you are initializing BertModel from the checkpoint of a model trained on another task or with another architecture (e.g. initializing a BertForSequenceClassification model from a BertForPreTraining model).\n",
      "- This IS NOT expected if you are initializing BertModel from the checkpoint of a model that you expect to be exactly identical (initializing a BertForSequenceClassification model from a BertForSequenceClassification model).\n"
     ]
    }
   ],
   "source": [
    "from transformers import BertTokenizer, BertModel\n",
    "model_path = '../model/bert-base-cased'\n",
    "tokenizer = BertTokenizer.from_pretrained(model_path)\n",
    "model = BertModel.from_pretrained(model_path)"
   ]
  },
  {
   "cell_type": "code",
   "execution_count": 2,
   "metadata": {},
   "outputs": [],
   "source": [
    "text = [\"@Trump @Obama @Biden\", \"hello \\u2345\"]\n",
    "encoded_input = tokenizer(text, return_tensors='pt', padding=True)\n",
    "output = model(**encoded_input)"
   ]
  },
  {
   "cell_type": "code",
   "execution_count": 4,
   "metadata": {},
   "outputs": [
    {
     "name": "stdout",
     "output_type": "stream",
     "text": [
      "BaseModelOutputWithPoolingAndCrossAttentions(last_hidden_state=tensor([[[ 0.1278,  0.3641, -0.2168,  ..., -0.5160,  0.3507,  0.4453],\n",
      "         [ 0.1525,  0.3170, -0.5557,  ...,  0.2590,  0.9446,  0.7828],\n",
      "         [-0.3013,  0.2910, -0.3417,  ...,  0.2326,  0.8007,  0.3408],\n",
      "         ...,\n",
      "         [-0.0755,  0.3534, -0.5067,  ...,  0.6037,  0.2587,  0.3651],\n",
      "         [ 0.4989,  0.2595, -0.2359,  ...,  0.0357, -0.1518,  0.3078],\n",
      "         [ 0.5202,  0.4104, -0.3188,  ..., -0.1814,  1.4330, -0.1076]],\n",
      "\n",
      "        [[ 0.1050,  0.0148,  0.0886,  ...,  0.0874,  0.7467,  0.4532],\n",
      "         [ 0.2532, -0.4583,  0.4978,  ..., -0.5250,  0.5993,  0.5029],\n",
      "         [ 0.1230,  0.1104,  0.2701,  ...,  0.0869,  0.3948,  0.5510],\n",
      "         ...,\n",
      "         [ 0.1325,  0.1280,  0.2466,  ...,  0.0239,  0.6420,  0.5542],\n",
      "         [ 0.0699,  0.0924,  0.2424,  ...,  0.0951,  0.6700,  0.5390],\n",
      "         [-0.0023,  0.0928,  0.2253,  ...,  0.1480,  0.7067,  0.5079]]],\n",
      "       grad_fn=<NativeLayerNormBackward0>), pooler_output=tensor([[-0.6385,  0.4594,  0.9998,  ...,  1.0000, -0.3568,  0.9947],\n",
      "        [-0.7312,  0.4486,  0.9999,  ...,  1.0000, -0.7170,  0.9928]],\n",
      "       grad_fn=<TanhBackward0>), hidden_states=None, past_key_values=None, attentions=None, cross_attentions=None)\n"
     ]
    }
   ],
   "source": [
    "print(output)"
   ]
  },
  {
   "cell_type": "code",
   "execution_count": 1,
   "metadata": {},
   "outputs": [],
   "source": [
    "from rumorDataset import PHEMEDataset\n",
    "from torch.utils.data import DataLoader\n",
    "from transformers import BertTokenizer\n",
    "\n",
    "tokenizer = BertTokenizer.from_pretrained('../model/bert-base-cased')\n",
    "\n",
    "dataset = PHEMEDataset('../datasets/PHEME/', tokenizer)"
   ]
  },
  {
   "cell_type": "code",
   "execution_count": 2,
   "metadata": {},
   "outputs": [],
   "source": [
    "loader = DataLoader(dataset, collate_fn=dataset.collate_fn)"
   ]
  },
  {
   "cell_type": "code",
   "execution_count": 5,
   "metadata": {},
   "outputs": [
    {
     "name": "stdout",
     "output_type": "stream",
     "text": [
      "tensor([[ 0.,  0.,  0.,  0.,  0.,  0.,  0.,  0.,  7., 37., 38.,  5., 35.,  3.,\n",
      "          3.,  3., 10., 19., 20., 21., 22., 23., 24., 25., 26., 26., 28., 32.,\n",
      "         33., 27., 29., 30.,  9., 12., 13., 14., 15., 16., 17.],\n",
      "        [ 1.,  2.,  3.,  4.,  5.,  6.,  7.,  8., 37., 38., 39., 35., 36.,  9.,\n",
      "         10., 11., 19., 20., 21., 22., 23., 24., 25., 26., 27., 28., 32., 33.,\n",
      "         34., 29., 30., 31., 12., 13., 14., 15., 16., 17., 18.]])\n",
      "tensor([[ 1.,  2.,  3.,  4.,  5.,  6.,  7.,  8., 37., 38., 39., 35., 36.,  9.,\n",
      "         10., 11., 19., 20., 21., 22., 23., 24., 25., 26., 27., 28., 32., 33.,\n",
      "         34., 29., 30., 31., 12., 13., 14., 15., 16., 17., 18.],\n",
      "        [ 0.,  0.,  0.,  0.,  0.,  0.,  0.,  0.,  7., 37., 38.,  5., 35.,  3.,\n",
      "          3.,  3., 10., 19., 20., 21., 22., 23., 24., 25., 26., 26., 28., 32.,\n",
      "         33., 27., 29., 30.,  9., 12., 13., 14., 15., 16., 17.]])\n"
     ]
    }
   ],
   "source": [
    "for node_token, edge_index_TD, edge_index_BU, root_index, label in loader:\n",
    "    # print(node_token)\n",
    "    print(edge_index_TD)\n",
    "    print(edge_index_BU)\n",
    "    # print(root_index)\n",
    "    # print(label)\n",
    "    break"
   ]
  },
  {
   "cell_type": "code",
   "execution_count": 3,
   "metadata": {},
   "outputs": [],
   "source": [
    "import logging\n",
    "logging.basicConfig(\n",
    "    filename='../log/log.txt', \n",
    "    filemode=\"w\", \n",
    "    format=\"[%(asctime)s]:%(levelname)s: %(message)s\", \n",
    "    datefmt=\"%d-%M-%Y %H:%M:%S\", \n",
    "    level=logging.DEBUG\n",
    ")"
   ]
  },
  {
   "cell_type": "code",
   "execution_count": 4,
   "metadata": {},
   "outputs": [],
   "source": [
    "logging.info(model.__str__())"
   ]
  },
  {
   "cell_type": "code",
   "execution_count": 1,
   "metadata": {},
   "outputs": [
    {
     "ename": "AttributeError",
     "evalue": "module 'cv2' has no attribute 'videpCapture'",
     "output_type": "error",
     "traceback": [
      "\u001b[0;31m---------------------------------------------------------------------------\u001b[0m",
      "\u001b[0;31mAttributeError\u001b[0m                            Traceback (most recent call last)",
      "Cell \u001b[0;32mIn[1], line 2\u001b[0m\n\u001b[1;32m      1\u001b[0m \u001b[39mimport\u001b[39;00m \u001b[39mcv2\u001b[39;00m\n\u001b[0;32m----> 2\u001b[0m cap \u001b[39m=\u001b[39m cv2\u001b[39m.\u001b[39;49mvidepCapture(\u001b[39m'\u001b[39m\u001b[39mrtsp://192.168.137.215:8554/123\u001b[39m\u001b[39m'\u001b[39m)\n\u001b[1;32m      3\u001b[0m \u001b[39mwhile\u001b[39;00m \u001b[39mTrue\u001b[39;00m:\n\u001b[1;32m      4\u001b[0m     ret, frame \u001b[39m=\u001b[39m cap\u001b[39m.\u001b[39mread()\n",
      "\u001b[0;31mAttributeError\u001b[0m: module 'cv2' has no attribute 'videpCapture'"
     ]
    }
   ],
   "source": [
    "import cv2\n",
    "cap = cv2.videoCapture('rtsp://192.168.137.215:8554/123')\n",
    "while True:\n",
    "    ret, frame = cap.read()\n",
    "    cv2.imshow('frame', frame)\n",
    "\n",
    "    cv2.waitkey(1)"
   ]
  }
 ],
 "metadata": {
  "kernelspec": {
   "display_name": "bigcn",
   "language": "python",
   "name": "python3"
  },
  "language_info": {
   "codemirror_mode": {
    "name": "ipython",
    "version": 3
   },
   "file_extension": ".py",
   "mimetype": "text/x-python",
   "name": "python",
   "nbconvert_exporter": "python",
   "pygments_lexer": "ipython3",
   "version": "3.10.11"
  },
  "orig_nbformat": 4
 },
 "nbformat": 4,
 "nbformat_minor": 2
}
