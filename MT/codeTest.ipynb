{
 "cells": [
  {
   "cell_type": "code",
   "execution_count": 1,
   "metadata": {},
   "outputs": [],
   "source": [
    "import json\n",
    "import torch\n",
    "import argparse\n",
    "import numpy as np\n",
    "from data import *\n",
    "from sklearn.feature_extraction.text import TfidfVectorizer\n",
    "from sklearn.metrics import f1_score\n",
    "from torch import optim\n",
    "from torch.nn.functional import softmax\n",
    "from torch.utils.data import DataLoader\n",
    "from model import *\n",
    "from utils import *\n",
    "from random import randint, shuffle\n",
    "from tqdm import tqdm\n",
    "from train import getTrainSet"
   ]
  },
  {
   "cell_type": "code",
   "execution_count": 3,
   "metadata": {},
   "outputs": [],
   "source": [
    "trainSet, label2IndexRumor, label2IndexStance, tfidf_vec = getTrainSet('../dataset/semeval2017-task8/')\n",
    "#_, _, _ = getDevTestSet(args.dataPath, 'test', tfidf_vec)\n",
    "\n",
    "inputDim = trainSet[0][0].size()[1]\n",
    "trainSet = semEval2017Dataset(\n",
    "    dataPath = '../dataset/semeval2017-task8/', \n",
    "    type = 'train'\n",
    ")\n",
    "trainLoader = DataLoader(trainSet, collate_fn=collate, shuffle=True)\n",
    "testSet = semEval2017Dataset(\n",
    "    dataPath = '../dataset/semeval2017-task8/',\n",
    "    type = 'test'\n",
    ")\n",
    "testLoader = DataLoader(testSet, collate_fn=collate, shuffle=True)"
   ]
  },
  {
   "cell_type": "code",
   "execution_count": 7,
   "metadata": {},
   "outputs": [
    {
     "name": "stdout",
     "output_type": "stream",
     "text": [
      "18\n",
      "(18, 94)\n"
     ]
    }
   ],
   "source": [
    "for thread in trainLoader:\n",
    "    print(len(thread['thread']))\n",
    "    cropus = []\n",
    "    for post in thread['thread']:\n",
    "        cropus.append(post)\n",
    "    tfidf_matrix = tfidf_vec.fit_transform(cropus)\n",
    "    counter = 0\n",
    "    for i in range(len(thread['thread'])):\n",
    "        tfidf = []\n",
    "        for _ in threads[i]:\n",
    "            tfidf.append(tfidf_matrix[counter])\n",
    "            counter += 1\n",
    "    break"
   ]
  },
  {
   "cell_type": "code",
   "execution_count": 6,
   "metadata": {},
   "outputs": [
    {
     "ename": "NameError",
     "evalue": "name 'mtes' is not defined",
     "output_type": "error",
     "traceback": [
      "\u001b[0;31m---------------------------------------------------------------------------\u001b[0m",
      "\u001b[0;31mNameError\u001b[0m                                 Traceback (most recent call last)",
      "\u001b[0;32m/tmp/ipykernel_3672738/1124937401.py\u001b[0m in \u001b[0;36m<module>\u001b[0;34m\u001b[0m\n\u001b[1;32m      2\u001b[0m \u001b[0;32mfrom\u001b[0m \u001b[0mtorch\u001b[0m\u001b[0;34m.\u001b[0m\u001b[0mnn\u001b[0m\u001b[0;34m.\u001b[0m\u001b[0mfunctional\u001b[0m \u001b[0;32mimport\u001b[0m \u001b[0msoftmax\u001b[0m\u001b[0;34m\u001b[0m\u001b[0;34m\u001b[0m\u001b[0m\n\u001b[1;32m      3\u001b[0m \u001b[0mloss_func\u001b[0m \u001b[0;34m=\u001b[0m \u001b[0mtorch\u001b[0m\u001b[0;34m.\u001b[0m\u001b[0mnn\u001b[0m\u001b[0;34m.\u001b[0m\u001b[0mCrossEntropyLoss\u001b[0m\u001b[0;34m(\u001b[0m\u001b[0mreduction\u001b[0m\u001b[0;34m=\u001b[0m\u001b[0;34m'sum'\u001b[0m\u001b[0;34m)\u001b[0m\u001b[0;34m\u001b[0m\u001b[0;34m\u001b[0m\u001b[0m\n\u001b[0;32m----> 4\u001b[0;31m \u001b[0moptimizer\u001b[0m \u001b[0;34m=\u001b[0m \u001b[0moptim\u001b[0m\u001b[0;34m.\u001b[0m\u001b[0mAdagrad\u001b[0m\u001b[0;34m(\u001b[0m\u001b[0mmtes\u001b[0m\u001b[0;34m.\u001b[0m\u001b[0mparameters\u001b[0m\u001b[0;34m(\u001b[0m\u001b[0;34m)\u001b[0m\u001b[0;34m,\u001b[0m \u001b[0mlr\u001b[0m\u001b[0;34m=\u001b[0m\u001b[0;36m1e-3\u001b[0m\u001b[0;34m)\u001b[0m\u001b[0;34m\u001b[0m\u001b[0;34m\u001b[0m\u001b[0m\n\u001b[0m",
      "\u001b[0;31mNameError\u001b[0m: name 'mtes' is not defined"
     ]
    }
   ],
   "source": [
    "from torch import optim\n",
    "from torch.nn.functional import softmax\n",
    "loss_func = torch.nn.CrossEntropyLoss(reduction='sum')\n",
    "optimizer = optim.Adagrad(mtes.parameters(), lr=1e-3)"
   ]
  },
  {
   "cell_type": "code",
   "execution_count": 27,
   "metadata": {},
   "outputs": [
    {
     "name": "stdout",
     "output_type": "stream",
     "text": [
      "torch.Size([5, 6586]) torch.Size([1]) torch.Size([5])\n",
      "torch.Size([5, 1, 200])\n",
      "torch.Size([1, 3]) tensor([0])\n",
      "tensor([[0.6789, 0.1548, 0.1664]], grad_fn=<SoftmaxBackward0>)\n",
      "0\n"
     ]
    }
   ],
   "source": [
    "#rumor test\n",
    "x = threads[0]\n",
    "rumorTag = rumorTags[0]\n",
    "stanceTag = stanceTags[0]\n",
    "print(x.size(), rumorTag.size(), stanceTag.size())\n",
    "\n",
    "optimizer.zero_grad()\n",
    "p1 = mtes.forwardRumor(x)\n",
    "print(p1.size(), rumorTag)\n",
    "loss = loss_func(p1, rumorTag)\n",
    "loss.backward()\n",
    "optimizer.step()\n",
    "p1 = softmax(p1, 1)\n",
    "print(p1)\n",
    "p1 = p1.max(dim=1)[1].item()\n",
    "print(p1)"
   ]
  },
  {
   "cell_type": "code",
   "execution_count": 32,
   "metadata": {},
   "outputs": [
    {
     "name": "stdout",
     "output_type": "stream",
     "text": [
      "torch.Size([5, 4]) tensor([0, 3, 3, 3, 0])\n",
      "tensor([[0.3533, 0.0561, 0.0703, 0.5203],\n",
      "        [0.3062, 0.0456, 0.0546, 0.5936],\n",
      "        [0.2968, 0.0414, 0.0484, 0.6134],\n",
      "        [0.3320, 0.0412, 0.0468, 0.5800],\n",
      "        [0.4296, 0.0452, 0.0508, 0.4744]], grad_fn=<SoftmaxBackward0>)\n",
      "[3, 3, 3, 3, 3]\n"
     ]
    }
   ],
   "source": [
    "#stance test\n",
    "optimizer.zero_grad()\n",
    "p2 = mtes.forwardStance(x).view(-1, len(label2IndexStance))\n",
    "print(p2.size(), stanceTag)\n",
    "loss = loss_func(p2, stanceTag)\n",
    "loss.backward()\n",
    "optimizer.step()\n",
    "p2 = softmax(p2, 1)\n",
    "print(p2)\n",
    "p2 = p2.max(dim=1)[1].tolist()\n",
    "print(p2)"
   ]
  },
  {
   "cell_type": "code",
   "execution_count": 20,
   "metadata": {},
   "outputs": [
    {
     "data": {
      "text/plain": [
       "1"
      ]
     },
     "execution_count": 20,
     "metadata": {},
     "output_type": "execute_result"
    }
   ],
   "source": [
    "from sklearn.metrics import f1_score\n",
    "import numpy as np\n",
    "y_true = np.array([0,1,2,2,1,0])\n",
    "y_pred = np.array([0,0,0,1,0,1])\n",
    "(y_true == y_pred).sum()"
   ]
  },
  {
   "cell_type": "code",
   "execution_count": null,
   "metadata": {},
   "outputs": [],
   "source": []
  }
 ],
 "metadata": {
  "kernelspec": {
   "display_name": "Python 3",
   "language": "python",
   "name": "python3"
  },
  "language_info": {
   "codemirror_mode": {
    "name": "ipython",
    "version": 3
   },
   "file_extension": ".py",
   "mimetype": "text/x-python",
   "name": "python",
   "nbconvert_exporter": "python",
   "pygments_lexer": "ipython3",
   "version": "3.8.12"
  }
 },
 "nbformat": 4,
 "nbformat_minor": 4
}
