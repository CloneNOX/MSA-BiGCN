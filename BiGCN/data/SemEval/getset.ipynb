{
 "cells": [
  {
   "cell_type": "code",
   "execution_count": 1,
   "metadata": {},
   "outputs": [],
   "source": [
    "import json\n",
    "from sklearn.feature_extraction.text import TfidfVectorizer\n",
    "from utils import *\n",
    "from copy import copy\n",
    "\n",
    "dataSetPath = '../../../dataset/semeval2017-task8/'\n",
    "dim = 5000\n",
    "\n",
    "with open(dataSetPath + 'trainSet.json', 'r') as f:\n",
    "    content = f.read()\n",
    "trainSet = json.loads(content)\n",
    "threads = []\n",
    "for threadId in trainSet['threadIds']:\n",
    "    thread = []\n",
    "    structure = trainSet['structures'][threadId]\n",
    "    ids = flattenStructure(structure)\n",
    "    time2Id = {}\n",
    "    for id in ids:\n",
    "        if id in trainSet['posts']:\n",
    "            time2Id[str(trainSet['posts'][id]['time'])] = id\n",
    "    # post按照时间先后排序\n",
    "    time2Id = sorted(time2Id.items(), key=lambda d: d[0])\n",
    "    for (time, id) in time2Id:\n",
    "        if id in trainSet['posts']:\n",
    "            thread.append(trainSet['posts'][id]['text'])\n",
    "    threads.append(thread)\n",
    "\n",
    "with open(dataSetPath + 'testSet.json', 'r') as f:\n",
    "    content = f.read()\n",
    "testSet = json.loads(content)\n",
    "\n",
    "for threadId in testSet['threadIds']:\n",
    "    thread = []\n",
    "    structure = testSet['structures'][threadId]\n",
    "    ids = flattenStructure(structure)\n",
    "    time2Id = {}\n",
    "    for id in ids:\n",
    "        if id in testSet['posts']:\n",
    "            time2Id[str(testSet['posts'][id]['time'])] = id\n",
    "    # post按照时间先后排序\n",
    "    time2Id = sorted(time2Id.items(), key=lambda d: d[0])\n",
    "    for (time, id) in time2Id:\n",
    "        if id in testSet['posts']:\n",
    "            thread.append(testSet['posts'][id]['text'])\n",
    "    threads.append(thread)\n",
    "\n",
    "cropus = []\n",
    "for thread in threads:\n",
    "    for text in thread:\n",
    "        cropus.append(text)\n",
    "tfidf_vec = TfidfVectorizer(max_features=5000)\n",
    "tfidf_vec.fit(cropus)\n",
    "label2IndexRumor = trainSet['label2IndexRumor'] if 'label2IndexRumor' in trainSet else None\n",
    "label2IndexStance = trainSet['label2IndexStance'] if 'label2IndexStance' in trainSet else None\n"
   ]
  },
  {
   "cell_type": "code",
   "execution_count": 2,
   "metadata": {},
   "outputs": [
    {
     "name": "stdout",
     "output_type": "stream",
     "text": [
      "5000\n"
     ]
    }
   ],
   "source": [
    "print(len(tfidf_vec.vocabulary_))"
   ]
  },
  {
   "cell_type": "code",
   "execution_count": 3,
   "metadata": {},
   "outputs": [],
   "source": [
    "# with open(dataSetPath + 'testSet.json', 'r') as f:\n",
    "#     content = f.read()\n",
    "# testSet = json.loads(content)\n",
    "totalSet = {}\n",
    "for key in trainSet:\n",
    "    if isinstance(trainSet[key], list):\n",
    "        totalSet[key] = copy(trainSet[key]) \n",
    "        totalSet[key] += testSet[key]\n",
    "    elif isinstance(trainSet[key], dict):\n",
    "        totalSet[key] = copy(trainSet[key])\n",
    "        totalSet[key].update(testSet[key])"
   ]
  },
  {
   "cell_type": "code",
   "execution_count": 4,
   "metadata": {},
   "outputs": [],
   "source": [
    "with open('./semeval_id_label.txt', 'w') as f:\n",
    "    for key in totalSet['rumorTag']:\n",
    "        f.write('{:s} {:d}\\n'.format(key, totalSet['label2IndexRumor'][totalSet['rumorTag'][key]]))"
   ]
  },
  {
   "cell_type": "code",
   "execution_count": 5,
   "metadata": {},
   "outputs": [],
   "source": [
    "def structure2graph(wordlist, structure, posts, contents, id, curIndex: list, parent=None):\n",
    "    if id in posts:\n",
    "        post = posts[id]['text']\n",
    "        word2feq = {}\n",
    "        for word in post.split(' '):\n",
    "            if word in word2feq:\n",
    "                word2feq[word] += 1\n",
    "            else:\n",
    "                word2feq[word] = 1\n",
    "        \n",
    "        content = ''\n",
    "        if parent == None:\n",
    "            content += '{:s}\\t{:s}\\t{:d}\\t'.format(id, 'None', curIndex[0])\n",
    "        else:\n",
    "            content += '{:s}\\t{:d}\\t{:d}\\t'.format(id, parent, curIndex[0])\n",
    "        vec = ''\n",
    "        for word in word2feq:\n",
    "            if word in wordlist :\n",
    "                vec += '{:d}:{:d} '.format(wordlist[word], word2feq[word])\n",
    "        vec = vec[0:-1] + '\\n'\n",
    "        if len(vec) == 1:\n",
    "            print(post)\n",
    "        content += vec\n",
    "        contents.append(content)\n",
    "\n",
    "    if not structure:\n",
    "        return\n",
    "\n",
    "    p = cur[0]\n",
    "    for cid in structure:\n",
    "        cur[0] += 1\n",
    "        structure2graph(wordlist, structure[cid], posts, contents, cid, curIndex, p)\n",
    "        \n",
    "    return "
   ]
  },
  {
   "cell_type": "code",
   "execution_count": 6,
   "metadata": {},
   "outputs": [],
   "source": [
    "with open('./semevaltree.txt', 'w') as f:\n",
    "    for tid in totalSet['threadIds']:\n",
    "        struct = totalSet['structures'][tid]\n",
    "        posts = totalSet['posts']\n",
    "        contents = []\n",
    "        cur = [1]\n",
    "        structure2graph(tfidf_vec.vocabulary_, struct, posts, contents, tid, cur, parent=None)\n",
    "        for content in contents:\n",
    "            f.write(content)"
   ]
  },
  {
   "cell_type": "code",
   "execution_count": null,
   "metadata": {},
   "outputs": [],
   "source": []
  }
 ],
 "metadata": {
  "interpreter": {
   "hash": "53024653744be1c7fdb50f623c21bc7cbc066eeadd60abd98245bb69a9f2fbe7"
  },
  "kernelspec": {
   "display_name": "Python 3.8.12 ('xsr')",
   "language": "python",
   "name": "python3"
  },
  "language_info": {
   "codemirror_mode": {
    "name": "ipython",
    "version": 3
   },
   "file_extension": ".py",
   "mimetype": "text/x-python",
   "name": "python",
   "nbconvert_exporter": "python",
   "pygments_lexer": "ipython3",
   "version": "3.8.12"
  },
  "orig_nbformat": 4
 },
 "nbformat": 4,
 "nbformat_minor": 2
}
